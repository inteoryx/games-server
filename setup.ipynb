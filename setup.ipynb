{
 "cells": [
  {
   "cell_type": "code",
   "execution_count": 1,
   "metadata": {},
   "outputs": [],
   "source": [
    "# use sqlalchemy to setup the pap database\n",
    "import sqlalchemy\n",
    "from sqlalchemy import create_engine\n",
    "from sqlalchemy.orm import sessionmaker\n",
    "import Tables\n",
    "import random"
   ]
  },
  {
   "cell_type": "code",
   "execution_count": 2,
   "metadata": {},
   "outputs": [],
   "source": [
    "# connect to the database, creating it and tables if necessary\n",
    "engine = create_engine('sqlite:///pap.db')\n",
    "Tables.Base.metadata.create_all(engine)\n"
   ]
  },
  {
   "cell_type": "code",
   "execution_count": 3,
   "metadata": {},
   "outputs": [],
   "source": [
    "import os\n",
    "import re"
   ]
  },
  {
   "cell_type": "code",
   "execution_count": 7,
   "metadata": {},
   "outputs": [],
   "source": [
    "fns = os.listdir(\"../../TTGames/games/src/images\")\n",
    "fns = [fn for fn in fns if re.match(r\"\\d+\", fn)]"
   ]
  },
  {
   "cell_type": "code",
   "execution_count": 8,
   "metadata": {},
   "outputs": [],
   "source": [
    "pres_list = \"\"\"41,George H. W. Bush\n",
    "09,William Henry Harrison\n",
    "33,Harry S. Truman\n",
    "22,Grover Cleveland\n",
    "42,Bill Clinton\n",
    "05,James Monroe\n",
    "21,Chester A. Arthur\n",
    "20,James A. Garfield\n",
    "10,John Tyler\n",
    "31,Herbert Hoover\n",
    "30,Calvin Coolidge\n",
    "32,Franklin D. Roosevelt\n",
    "04,James Madison\n",
    "07,Andrew Jackson\n",
    "35,John F. Kennedy\n",
    "29,Warren G. Harding\n",
    "37,Richard Nixon\n",
    "13,Millard Fillmore\n",
    "40,Ronald Reagan\n",
    "23,Benjamin Harrison\n",
    "01,George Washington\n",
    "28,Woodrow Wilson\n",
    "02,John Adams\n",
    "12,Zachary Taylor\n",
    "26,Theodore Roosevelt\n",
    "06,John Quincy Adams\n",
    "03,Thomas Jefferson\n",
    "45,Donald Trump\n",
    "18,Ulysses S. Grant\n",
    "34,Dwight D. Eisenhower\n",
    "44,Barack Obama\n",
    "27,William Howard Taft\n",
    "43,George W. Bush\n",
    "15,James Buchanan\n",
    "25,William McKinley\n",
    "14,Franklin Pierce\n",
    "19,Rutherford B. Hayes\n",
    "46,Joe Biden\n",
    "16,Abraham Lincoln\n",
    "17,Andrew Johnson\n",
    "11,James K. Polk\n",
    "08,Martin Van Buren\n",
    "36,Lyndon B. Johnson\n",
    "38,Gerald R. Ford\n",
    "39,Jimmy Carter\"\"\"\n",
    "\n",
    "pres_list = pres_list.splitlines()"
   ]
  },
  {
   "cell_type": "code",
   "execution_count": 9,
   "metadata": {},
   "outputs": [
    {
     "data": {
      "text/plain": [
       "['41-bush.jpg',\n",
       " '09-harrison.jpg',\n",
       " '33-truman.jpg',\n",
       " '22-24-cleveland.jpg',\n",
       " '42-clinton.jpg',\n",
       " '05-monroe.jpg',\n",
       " '21-arthur.jpg',\n",
       " '20-garfield.jpg',\n",
       " '10-tyler.jpg',\n",
       " '31-hoover.jpg',\n",
       " '30-coolidge.jpg',\n",
       " '32-roosevelt.jpg',\n",
       " '04-madison.jpg',\n",
       " '07-jackson.jpg',\n",
       " '35-kennedy.jpg',\n",
       " '29-harding.jpg',\n",
       " '37-nixon.jpg',\n",
       " '13-fillmore.jpg',\n",
       " '40-reagan.jpg',\n",
       " '23-harrison.jpg',\n",
       " '01-washington.jpg',\n",
       " '28-wilson.jpg',\n",
       " '02-adams.jpg',\n",
       " '12-taylor.jpg',\n",
       " '26-roosevelt.jpg',\n",
       " '06-adams.jpg',\n",
       " '03-jefferson.jpg',\n",
       " '45-donald-trump.png',\n",
       " '18-grant.jpg',\n",
       " '34-eisenhower.jpg',\n",
       " '44-obama.jpg',\n",
       " '27-taft.jpg',\n",
       " '43-bush.jpg',\n",
       " '15-buchanan.jpg',\n",
       " '25-mckinley.jpg',\n",
       " '14-pierce.jpg',\n",
       " '19-hayes.jpg',\n",
       " '46-joe-biden.png',\n",
       " '16-lincoln.jpg',\n",
       " '17-johnson.jpg',\n",
       " '11-polk.jpg',\n",
       " '08-van-buren.jpg',\n",
       " '36-johnson.jpg',\n",
       " '38-ford.jpg',\n",
       " '39-carter.jpg']"
      ]
     },
     "execution_count": 9,
     "metadata": {},
     "output_type": "execute_result"
    }
   ],
   "source": [
    "fns"
   ]
  },
  {
   "cell_type": "code",
   "execution_count": 10,
   "metadata": {},
   "outputs": [
    {
     "data": {
      "text/plain": [
       "45"
      ]
     },
     "execution_count": 10,
     "metadata": {},
     "output_type": "execute_result"
    }
   ],
   "source": [
    "len(fns)"
   ]
  },
  {
   "cell_type": "code",
   "execution_count": 11,
   "metadata": {},
   "outputs": [
    {
     "data": {
      "text/plain": [
       "45"
      ]
     },
     "execution_count": 11,
     "metadata": {},
     "output_type": "execute_result"
    }
   ],
   "source": [
    "len(pres_list)"
   ]
  },
  {
   "cell_type": "code",
   "execution_count": 12,
   "metadata": {},
   "outputs": [
    {
     "data": {
      "text/plain": [
       "'41,George H. W. Bush'"
      ]
     },
     "execution_count": 12,
     "metadata": {},
     "output_type": "execute_result"
    }
   ],
   "source": [
    "pres_list[0]"
   ]
  },
  {
   "cell_type": "code",
   "execution_count": 13,
   "metadata": {},
   "outputs": [],
   "source": [
    "presidents = []\n",
    "for i in range(len(fns)):\n",
    "    imageSrc = fns[i]\n",
    "    id, name = pres_list[i].split(\",\")\n",
    "    \n",
    "    pres = Tables.President(id=id, name=name, image=imageSrc)\n",
    "    presidents.append(pres)\n",
    "\n",
    "sess = sessionmaker(bind=engine)()\n",
    "sess.add_all(presidents)\n",
    "sess.commit()\n",
    "sess.close()\n"
   ]
  },
  {
   "cell_type": "code",
   "execution_count": 14,
   "metadata": {},
   "outputs": [],
   "source": [
    "sess = sessionmaker(bind=engine)()"
   ]
  },
  {
   "cell_type": "code",
   "execution_count": 15,
   "metadata": {},
   "outputs": [],
   "source": [
    "import pydantic\n",
    "from typing import List"
   ]
  },
  {
   "cell_type": "code",
   "execution_count": 16,
   "metadata": {},
   "outputs": [],
   "source": [
    "class President(pydantic.BaseModel):\n",
    "    president_id: int\n",
    "    name: str\n",
    "    image: str"
   ]
  },
  {
   "cell_type": "code",
   "execution_count": 17,
   "metadata": {},
   "outputs": [],
   "source": [
    "class Quiz(pydantic.BaseModel):\n",
    "    id: int\n",
    "    quote: str\n",
    "    correct_answer: str\n",
    "    choices: List[str]\n"
   ]
  },
  {
   "cell_type": "code",
   "execution_count": 18,
   "metadata": {},
   "outputs": [],
   "source": [
    "all_presidents = [President(president_id=p.id, name=p.name, image=p.image) for p in sess.query(Tables.President).all()]"
   ]
  },
  {
   "cell_type": "code",
   "execution_count": 19,
   "metadata": {},
   "outputs": [
    {
     "data": {
      "text/plain": [
       "'01-washington.jpg'"
      ]
     },
     "execution_count": 19,
     "metadata": {},
     "output_type": "execute_result"
    }
   ],
   "source": [
    "all_presidents[0].image"
   ]
  },
  {
   "cell_type": "code",
   "execution_count": 30,
   "metadata": {},
   "outputs": [],
   "source": [
    "def create_quiz(quote: str, correct_answer: Tables.President):\n",
    "    choices = set([correct_answer.name])\n",
    "    while len(choices) < 4:\n",
    "        choices.add(random.choice(all_presidents).name)\n",
    "    choices = list(choices)\n",
    "\n",
    "    sess = sessionmaker(bind=engine)()\n",
    "\n",
    "    quiz = Tables.Quiz(\n",
    "        quote=quote,\n",
    "        correct_answer=correct_answer.name,\n",
    "        choices=\",\".join(choices),\n",
    "    )\n",
    "\n",
    "    sess.add(quiz)\n",
    "    sess.commit()\n",
    "\n",
    "    result = Quiz(\n",
    "        id=quiz.id,\n",
    "        quote=quiz.quote,\n",
    "        correct_answer=quiz.correct_answer,\n",
    "        choices=[c for c in choices],\n",
    "    )\n",
    "    \n",
    "    sess.close()\n",
    "\n",
    "    return result"
   ]
  },
  {
   "cell_type": "code",
   "execution_count": 18,
   "metadata": {},
   "outputs": [
    {
     "data": {
      "text/plain": [
       "[President(president_id=1, name='George Washington', image='01-washington.jpg'),\n",
       " President(president_id=2, name='John Adams', image='02-adams.jpg'),\n",
       " President(president_id=3, name='Thomas Jefferson', image='03-jefferson.jpg'),\n",
       " President(president_id=4, name='James Madison', image='04-madison.jpg'),\n",
       " President(president_id=5, name='James Monroe', image='05-monroe.jpg'),\n",
       " President(president_id=6, name='John Quincy Adams', image='06-adams.jpg'),\n",
       " President(president_id=7, name='Andrew Jackson', image='07-jackson.jpg'),\n",
       " President(president_id=8, name='Martin Van Buren', image='08-van-buren.jpg'),\n",
       " President(president_id=9, name='William Henry Harrison', image='09-harrison.jpg'),\n",
       " President(president_id=10, name='John Tyler', image='10-tyler.jpg'),\n",
       " President(president_id=11, name='James K. Polk', image='11-polk.jpg'),\n",
       " President(president_id=12, name='Zachary Taylor', image='12-taylor.jpg'),\n",
       " President(president_id=13, name='Millard Fillmore', image='13-fillmore.jpg'),\n",
       " President(president_id=14, name='Franklin Pierce', image='14-pierce.jpg'),\n",
       " President(president_id=15, name='James Buchanan', image='15-buchanan.jpg'),\n",
       " President(president_id=16, name='Abraham Lincoln', image='16-lincoln.jpg'),\n",
       " President(president_id=17, name='Andrew Johnson', image='17-johnson.jpg'),\n",
       " President(president_id=18, name='Ulysses S. Grant', image='18-grant.jpg'),\n",
       " President(president_id=19, name='Rutherford B. Hayes', image='19-hayes.jpg'),\n",
       " President(president_id=20, name='James A. Garfield', image='20-garfield.jpg'),\n",
       " President(president_id=21, name='Chester A. Arthur', image='21-arthur.jpg'),\n",
       " President(president_id=22, name='Grover Cleveland', image='22-24-cleveland.jpg'),\n",
       " President(president_id=23, name='Benjamin Harrison', image='23-harrison.jpg'),\n",
       " President(president_id=25, name='William McKinley', image='25-mckinley.jpg'),\n",
       " President(president_id=26, name='Theodore Roosevelt', image='26-roosevelt.jpg'),\n",
       " President(president_id=27, name='William Howard Taft', image='27-taft.jpg'),\n",
       " President(president_id=28, name='Woodrow Wilson', image='28-wilson.jpg'),\n",
       " President(president_id=29, name='Warren G. Harding', image='29-harding.jpg'),\n",
       " President(president_id=30, name='Calvin Coolidge', image='30-coolidge.jpg'),\n",
       " President(president_id=31, name='Herbert Hoover', image='31-hoover.jpg'),\n",
       " President(president_id=32, name='Franklin D. Roosevelt', image='32-roosevelt.jpg'),\n",
       " President(president_id=33, name='Harry S. Truman', image='33-truman.jpg'),\n",
       " President(president_id=34, name='Dwight D. Eisenhower', image='34-eisenhower.jpg'),\n",
       " President(president_id=35, name='John F. Kennedy', image='35-kennedy.jpg'),\n",
       " President(president_id=36, name='Lyndon B. Johnson', image='36-johnson.jpg'),\n",
       " President(president_id=37, name='Richard Nixon', image='37-nixon.jpg'),\n",
       " President(president_id=38, name='Gerald R. Ford', image='38-ford.jpg'),\n",
       " President(president_id=39, name='Jimmy Carter', image='39-carter.jpg'),\n",
       " President(president_id=40, name='Ronald Reagan', image='40-reagan.jpg'),\n",
       " President(president_id=41, name='George H. W. Bush', image='41-bush.jpg'),\n",
       " President(president_id=42, name='Bill Clinton', image='42-clinton.jpg'),\n",
       " President(president_id=43, name='George W. Bush', image='43-bush.jpg'),\n",
       " President(president_id=44, name='Barack Obama', image='44-obama.jpg'),\n",
       " President(president_id=45, name='Donald Trump', image='45-donald-trump.png'),\n",
       " President(president_id=46, name='Joe Biden', image='46-joe-biden.png')]"
      ]
     },
     "execution_count": 18,
     "metadata": {},
     "output_type": "execute_result"
    }
   ],
   "source": [
    "all_presidents"
   ]
  },
  {
   "cell_type": "code",
   "execution_count": 31,
   "metadata": {},
   "outputs": [],
   "source": [
    "q = Tables.Quiz(\n",
    "    quote=\"I am the 41st president of the United States.\",\n",
    "    correct_answer=\"George H. W. Bush\",\n",
    "    choices=\"George H. W. Bush,Donald Trump,Joe Biden,Barack Obama\",\n",
    "    \n",
    ")"
   ]
  },
  {
   "cell_type": "code",
   "execution_count": 32,
   "metadata": {},
   "outputs": [],
   "source": [
    "q = create_quiz(\n",
    "    quote=\"This is a test.\",\n",
    "    correct_answer=all_presidents[0]\n",
    ")"
   ]
  },
  {
   "cell_type": "code",
   "execution_count": 33,
   "metadata": {},
   "outputs": [
    {
     "data": {
      "text/plain": [
       "Quiz(id=1, quote='This is a test.', correct_answer='George Washington', choices=['James A. Garfield', 'George Washington', 'James Buchanan', 'Benjamin Harrison'])"
      ]
     },
     "execution_count": 33,
     "metadata": {},
     "output_type": "execute_result"
    }
   ],
   "source": [
    "q"
   ]
  },
  {
   "cell_type": "code",
   "execution_count": 34,
   "metadata": {},
   "outputs": [],
   "source": [
    "# drop all quizzes\n",
    "sess = sessionmaker(bind=engine)()\n",
    "sess.query(Tables.Quiz).delete()\n",
    "sess.commit()\n",
    "sess.close()"
   ]
  },
  {
   "cell_type": "code",
   "execution_count": 36,
   "metadata": {},
   "outputs": [
    {
     "data": {
      "text/plain": [
       "President(president_id=1, name='George Washington', image='01-washington.jpg')"
      ]
     },
     "execution_count": 36,
     "metadata": {},
     "output_type": "execute_result"
    }
   ],
   "source": [
    "all_presidents[0]"
   ]
  },
  {
   "cell_type": "code",
   "execution_count": 21,
   "metadata": {},
   "outputs": [],
   "source": [
    "import requests\n",
    "import bs4"
   ]
  },
  {
   "cell_type": "code",
   "execution_count": 44,
   "metadata": {},
   "outputs": [],
   "source": [
    "pres_list_page = requests.get(\"https://en.wikiquote.org/wiki/List_of_presidents_of_the_United_States\")"
   ]
  },
  {
   "cell_type": "code",
   "execution_count": 47,
   "metadata": {},
   "outputs": [],
   "source": [
    "plist = []\n",
    "for p in pres_list:\n",
    "    _, name = p.split(\",\")\n",
    "    plist.append(name)\n",
    "\n",
    "pages = {\n",
    "    pres: f\"https://en.wikiquote.org/wiki/{pres.replace(' ', '_')}\"\n",
    "    for pres in plist\n",
    "}"
   ]
  },
  {
   "cell_type": "code",
   "execution_count": 19,
   "metadata": {},
   "outputs": [],
   "source": [
    "def get_page(page):\n",
    "    page = requests.get(page)\n",
    "    return bs4.BeautifulSoup(page.text, \"html.parser\")"
   ]
  },
  {
   "cell_type": "code",
   "execution_count": 53,
   "metadata": {},
   "outputs": [],
   "source": [
    "html_pages = {pres: get_page(page) for pres, page in pages.items()}"
   ]
  },
  {
   "cell_type": "code",
   "execution_count": 22,
   "metadata": {},
   "outputs": [],
   "source": [
    "import pickle"
   ]
  },
  {
   "cell_type": "code",
   "execution_count": 57,
   "metadata": {},
   "outputs": [],
   "source": [
    "for key in html_pages:\n",
    "    with open(f\"Quotes/{key}.html\", \"w\") as f:\n",
    "        f.write(str(html_pages[key]))\n",
    "\n"
   ]
  },
  {
   "cell_type": "code",
   "execution_count": 23,
   "metadata": {},
   "outputs": [],
   "source": [
    "# load the html pages\n",
    "html_pages = {}\n",
    "for fn in os.listdir(\"Quotes\"):\n",
    "    with open(f\"Quotes/{fn}\", \"r\") as f:\n",
    "        html_pages[fn[:-5]] = bs4.BeautifulSoup(f.read(), \"html.parser\")"
   ]
  },
  {
   "cell_type": "code",
   "execution_count": 24,
   "metadata": {},
   "outputs": [
    {
     "data": {
      "text/plain": [
       "['Harry S. Truman',\n",
       " 'Franklin Pierce',\n",
       " 'Gerald R. Ford',\n",
       " 'Millard Fillmore',\n",
       " 'William Henry Harrison']"
      ]
     },
     "execution_count": 24,
     "metadata": {},
     "output_type": "execute_result"
    }
   ],
   "source": [
    "keys = list(html_pages.keys())\n",
    "keys[:5]"
   ]
  },
  {
   "cell_type": "code",
   "execution_count": 25,
   "metadata": {},
   "outputs": [],
   "source": [
    "presidents = {\n",
    "    n.name.replace(\" \", \"_\"): n\n",
    "    for n in all_presidents\n",
    "}"
   ]
  },
  {
   "cell_type": "code",
   "execution_count": 37,
   "metadata": {},
   "outputs": [],
   "source": [
    "def extract_quotes(soup):\n",
    "    \"\"\"\n",
    "    Find a div with class \"mw-parser-output\".\n",
    "    Find an h2 with the text \"Quotes\"\n",
    "    Find all ul tags between that h2 and the next h2\n",
    "    Add the first li text to quotes for each ul.\n",
    "\n",
    "    \"\"\"\n",
    "    quotes = []\n",
    "    div = soup.find(\"div\", {\"class\": \"mw-parser-output\"})\n",
    "    uls = []\n",
    "    collect = False\n",
    "    for tag in div.children:\n",
    "        if tag.name == \"h2\":\n",
    "            if tag.text == \"Quotes[edit]\" or tag.text == \"Quotes\":\n",
    "                collect = True\n",
    "            else:\n",
    "                collect = False\n",
    "        if collect and tag.name == \"ul\":\n",
    "            uls.append(tag)\n",
    "\n",
    "    for ul in uls:\n",
    "        quotes.append(ul.find(\"li\").text)\n",
    "\n",
    "\n",
    "    return quotes"
   ]
  },
  {
   "cell_type": "code",
   "execution_count": 38,
   "metadata": {},
   "outputs": [],
   "source": [
    "qs = extract_quotes(html_pages[\"Andrew Johnson\"])"
   ]
  },
  {
   "cell_type": "code",
   "execution_count": 39,
   "metadata": {},
   "outputs": [
    {
     "data": {
      "text/plain": [
       "['Whenever you hear a man prating about the Constitution, spot him as a traitor.\\nRemark made by Johnson as military Governor of Tennessee, as quoted in A Review of the Political Conflict in America (1876) by Alexander Harris, A Review of the Political Conflict in America, p. 430.',\n",
       " 'There are no good laws but such as repeal other laws.\\nStatement (1835), as quoted in Andrew Johnson, Plebeian and Patriot (1928) by Robert Watson Winston.',\n",
       " 'There are some who lack confidence in the integrity and capacity of the people to govern themselves. To all who entertain such fears I will most respectfully say that I entertain none... If a man is not capable, and is not to be trusted with the government of himself, is he to be trusted with the government of others... Who, then, will govern? The answer must be, Man — for we have no angels in the shape of men, as yet, who are willing to take charge of our political affairs.\\nStatement (1853) as quoted in Andrew Johnson, Plebeian and Patriot (1928) by Robert Watson Winston.',\n",
       " 'No, gentlemen, if I am to be shot at, I want no man to be in the way of the bullet.\\nAs military governor of Tennessee, asserting that he would walk alone, to friends who offered to escort him to the statehouse, after postings of a placard saying he should be \"shot on sight.\" (c.1862); as quoted in Andrew Johnson, President of the United States: His Life and Speeches (1866) by Lillian Foster.',\n",
       " 'Mr. Jefferson meant the white race.\\nRegarding the statement in the Declaration of Independence that \"all men are created equal.\"\\n\"Speech on Harper\\'s Ferry Incident\", 12 December 1859; as printed in The papers of Andrew Johnson, Vol. 3: 1858-1860 (1972), ed. LeRoy P. Graf and Ralph W. Haskins, p. 320.',\n",
       " 'I have lived among Negroes, all my life, and I am for this Government with slavery under the Constitution as it is. I am for the Government of my fathers with Negroes, I am for it without Negroes. Before I would see this Government destroyed, I would send every negro back to Africa, disintegrated and blotted out of space.\\nSpeech in Indianapolis, Indiana (26 February 1863).',\n",
       " 'Colored men of Tennessee, humble and unworthy as I am, if no better shall be found I will indeed be your Moses and lead you through the Red Sea of war and bondage to a fairer future of liberty and peace. I speak now as one who feels the world his country and all who love equal rights his friends.\\nAs quoted in \"The Good Fight\" (1865), by George William Curtis.',\n",
       " \"I am a-goin' for to tell you here to-day; yes, I'm a-goin for to tell you all, that I'm a plebian! I glory in it; I am a plebian! The people — yes, the people of the United States have made me what I am; and I am a-goin' for to tell you here to-day — yes, to-day, in this place — that the people are everything.\\nFirst address as Vice-President, widely reported as having been delivered while he was inebriated. (5 March 1865).\",\n",
       " 'This is your country as well as anybody else\\'s country. This country is founded upon the principle of equality. He that is meritorious and virtuous, intellectual and well informed, must stand highest, without regard to color.\\nTo Union soldiers (1865), as quoted in Andrew Johnson: A Profile (1969), \"Johnson and the Negro\", by Lawanda Cox and John H. Cox; edited by Eric L. McKitrick, Hill & Wang, New York pp. 141.',\n",
       " 'If you could extend the elective franchise to all persons of color who can read the Constitution of the United States in English and write their names and to all persons of color who own real estate valued at not less than two hundred and fifty dollars and pay taxes thereon, and would completely disarm the adversary. This you can do with perfect safety. And as a consequence, the radicals, who are wild upon negro franchise, will be completely foiled in their attempts to keep the Southern States from renewing their relations to the Union.\\nLetter to William L. Sharkey, governor of Mississippi (June 1865).',\n",
       " 'Notwithstanding a mendacious press; notwithstanding a subsidized gang of hirelings who have not ceased to traduce me, I have discharged all my official duties and fulfilled my pledges. And I say here tonight that if my predecessor had lived, the vials of wrath would have poured out upon him.\\nSpeech in Cleveland, Ohio (3 September 1866).',\n",
       " 'Those damned sons of bitches thought they had me in a trap! I know that damned Douglass; he\\'s just like any nigger, and he would sooner cut a white man\\'s throat than not.\\nAs quoted in Andrew Johnson: A Profile (1969), \"Johnson and the Negro\", by Lawanda Cox and John H. Cox; edited by Eric L. McKitrick, Hill & Wang, New York pp. 152-153.',\n",
       " 'I have had a son killed, a son-in-law die during the last battle of Nashville, another son has thrown himself away, a second son-in-law is in no better condition, I think I have had sorrow enough without having my bank account examined by a Committee of Congress.\\nLetter to his friend Colonel William G. Moore, complaining of Congressional investigations.... (1 May 1867).',\n",
       " 'Legislation can neither be wise nor just which seeks the welfare of a single interest at the expense and to the injury of many and varied interests at least equally important and equally deserving the considerations of Congress.\\nVeto message to the House of Representatives (22 February 1869).',\n",
       " 'The goal to strive for is a poor government but a rich people.\\nAs quoted in Andrew Johnson, Plebeian and Patriot (1928) by Robert Watson Winston',\n",
       " 'Your President is now the Tribune of the people, and, thank God, I am, and intend to assert the power which the people have placed in me... Tyranny and despotism can be exercised by many, more rigorously, more vigorously, and more severely, than by one.\\nAs quoted in Presidential Government in the United States: The Unwritten Constitution (1947) by Caleb Perry Patterson.',\n",
       " 'If I should happen to die among the damn spirits that infest Greeneville, my last request before death would be for some friend I would bequeath the last dollar to some Negro to pay -- to take my dirty stinking carcass after death out on some mountain peak, and there leave it to be devoured by the vultures and wolves or make a fire sufficiently large to consume the smallest particle that it might pass off and smoke and ride upon the wind in triumph over the God-forsaken and hell-deserving, money-loving, hypocritical, backbiting, Sunday-praying scoundrels of the town of Greeneville.\\nU.S. Rep. Andrew Johnson, 1847. As quoted from The Washington Post Presidential Podcast Episode Transcript \"Andrew Johnson Stitching up a torn country\".[1] Johnson would die of a stroke during 1875 while visiting his daughters at the riverside home of his daughter Mary, some 45 miles away, immediately upstream of Brumit Island and northeast of Elizabethton, Tennessee.[2][3][4][5]',\n",
       " 'I must be permitted to say that I have been almost overwhelmed by the announcement of the sad event which has so recently occurred. I feel incompetent to perform duties so important and responsible as those which have been so unexpectedly thrown upon me.',\n",
       " \"The only assurance that I can now give of the future is reference to the past. The course which I have taken in the past in connection with this rebellion must be regarded as a guaranty of the future. My past public life, which has been long and laborious, has been founded, as I in good conscience believe, upon a great principle of right, which lies at the basis of all things. The best energies of my life have been spent in endeavoring to establish and perpetuate the principles of free government, and I believe that the Government in passing through its present perils will settle down upon principles consonant with popular rights more permanent and enduring than heretofore. I must be permitted to say, if I understand the feelings of my own heart, that I have long labored to ameliorate and elevate the condition of the great mass of the American people. Toil and an honest advocacy of the great principles of free government have been my lot. Duties have been mine; consequences are God's. This has been the foundation of my political creed, and I feel that in the end the Government will triumph and that these great principles will be permanently established.\",\n",
       " '\"The sovereignty of the States\" is the language of the Confederacy, and not the language of the Constitution. The latter contains the emphatic words — This Constitution and the laws of the United States which shall be made in pursuance thereof, and all treaties made or which shall be made under the authority of the United States, shall be the supreme law of the land, and the judges in every State shall be bound thereby, anything in the constitution or laws of any State to the contrary notwithstanding.',\n",
       " 'Certainly the Government of the United States is a limited government, and so is every State government a limited government. With us this idea of limitation spreads through every form of administration — general, State, and municipal — and rests on the great distinguishing principle of the recognition of the rights of man. The ancient republics absorbed the individual in the state — prescribed his religion and controlled his activity. The American system rests on the assertion of the equal right of every man to life, liberty, and the pursuit of happiness, to freedom of conscience, to the culture and exercise of all his faculties. As a consequence the State government is limited — as to the General Government in the interest of union, as to the individual citizen in the interest of freedom.',\n",
       " 'Our Government springs from and was made for the people — not the people for the Government. To them it owes allegiance; from them it must derive its courage, strength, and wisdom. But while the Government is thus bound to defer to the people, from whom it derives its existence, it should, from the very consideration of its origin, be strong in its power of resistance to the establishment of inequalities. Monopolies, perpetuities, and class legislation are contrary to the genius of free government, and ought not to be allowed. Here there is no room for favored classes or monopolies; the principle of our Government is that of equal laws and freedom of industry. Wherever monopoly attains a foothold, it is sure to be a source of danger, discord, and trouble. We shall but fulfill our duties as legislators by according \"equal and exact justice to all men,\" special privileges to none.',\n",
       " \"The life of a republic lies certainly in the energy, virtue, and intelligence of its citizens; but it is equally true that a good revenue system is the life of an organized government. I meet you at a time when the nation has voluntarily burdened itself with a debt unprecedented in our annals. Vast as is its amount, it fades away into nothing when compared with the countless blessings that will be conferred upon our country and upon man by the preservation of the nation's life. Now, on the first occasion of the meeting of Congress since the return of peace, it is of the utmost importance to inaugurate a just policy, which shall at once be put in motion, and which shall commend itself to those who come after us for its continuance. We must aim at nothing less than the complete effacement of the financial evils that necessarily followed a state of civil war.\",\n",
       " 'I hold it the duty of the Executive to insist upon frugality in the expenditures, and a sparing economy is itself a great national resource.',\n",
       " 'It may be safely assumed as an axiom in the government of states that the greatest wrongs inflicted upon a people are caused by unjust and arbitrary legislation, or by the unrelenting decrees of despotic rulers, and that the timely revocation of injurious and oppressive measures is the greatest good that can be conferred upon a nation. The legislator or ruler who has the wisdom and magnanimity to retrace his steps when convinced of error will sooner or later be rewarded with the respect and gratitude of an intelligent and patriotic people.  Our own history, although embracing a period less than a century, affords abundant proof that most, if not all, of our domestic troubles are directly traceable to violations of the organic law and excessive legislation.',\n",
       " 'The attempt to place the white population under the domination of persons of color in the South has impaired, if not destroyed, the kindly relations that had previously existed between them: and mutual distrust has engendered a feeling of animosity which leading in some instances to collision and bloodshed, has prevented that cooperation between the two races so essential to the success of industrial enterprise in the Southern States.']"
      ]
     },
     "execution_count": 39,
     "metadata": {},
     "output_type": "execute_result"
    }
   ],
   "source": [
    "qs"
   ]
  },
  {
   "cell_type": "code",
   "execution_count": 40,
   "metadata": {},
   "outputs": [],
   "source": [
    "def create_quizes(quotes, president_name):\n",
    "    quizes = []\n",
    "\n",
    "    for quote in quotes:\n",
    "        quote = quote.split(\"\\n\")[0].strip()\n",
    "\n",
    "        q = create_quiz(\n",
    "            quote=quote,\n",
    "            correct_answer=president_name\n",
    "        )\n",
    "\n",
    "        print(\"Quiz created.\", q)"
   ]
  },
  {
   "cell_type": "code",
   "execution_count": 41,
   "metadata": {},
   "outputs": [],
   "source": [
    "pquotes = {}\n",
    "for pname, pres in presidents.items():\n",
    "    qs = extract_quotes(html_pages[pres.name])\n",
    "    pquotes[pres.name] = qs"
   ]
  },
  {
   "cell_type": "code",
   "execution_count": 129,
   "metadata": {},
   "outputs": [],
   "source": [
    "from matplotlib import pyplot as plt"
   ]
  },
  {
   "cell_type": "code",
   "execution_count": 130,
   "metadata": {},
   "outputs": [],
   "source": [
    "import numpy as np"
   ]
  },
  {
   "cell_type": "code",
   "execution_count": 39,
   "metadata": {},
   "outputs": [],
   "source": [
    "mean_q = sum([len(qs) for qs in pquotes.values()]) / len(pquotes)\n",
    "std_q = np.std([len(qs) for qs in pquotes.values()])"
   ]
  },
  {
   "cell_type": "code",
   "execution_count": 40,
   "metadata": {},
   "outputs": [
    {
     "data": {
      "image/png": "[encoded data removed]",
      "text/plain": [
       "<Figure size 1440x720 with 1 Axes>"
      ]
     },
     "metadata": {
      "needs_background": "light"
     },
     "output_type": "display_data"
    }
   ],
   "source": [
    "# plot the number of quotes per president\n",
    "# label every president with more than 2 std deviations from the mean\n",
    "plt.figure(figsize=(20, 10))\n",
    "plt.bar(pquotes.keys(), [len(qs) for qs in pquotes.values()])\n",
    "plt.xticks(rotation=90)\n",
    "plt.show()\n"
   ]
  },
  {
   "cell_type": "code",
   "execution_count": 76,
   "metadata": {},
   "outputs": [
    {
     "data": {
      "image/png": "[encoded data removed]",
      "text/plain": [
       "<Figure size 1440x720 with 1 Axes>"
      ]
     },
     "metadata": {
      "needs_background": "light"
     },
     "output_type": "display_data"
    }
   ],
   "source": [
    "# scatter plot number of quotes versus order of presidency\n",
    "plt.figure(figsize=(20, 10))\n",
    "plt.scatter(range(len(pquotes)), [len(qs) for qs in pquotes.values()])\n",
    "plt.xticks(range(len(pquotes)), pquotes.keys(), rotation=90)\n",
    "\n",
    "# add a trendline\n",
    "z = np.polyfit(range(len(pquotes)), [len(qs) for qs in pquotes.values()], 1)\n",
    "p = np.poly1d(z)\n",
    "plt.plot(range(len(pquotes)), p(range(len(pquotes))), \"r--\")\n",
    "\n",
    "plt.show()\n"
   ]
  },
  {
   "cell_type": "code",
   "execution_count": 42,
   "metadata": {},
   "outputs": [],
   "source": [
    "for key in pquotes:\n",
    "    random.shuffle(pquotes[key])\n",
    "\n",
    "pquotes = {\n",
    "    pres: [q for q in qs if 10 < len(q) < 300][:10]\n",
    "    for pres, qs in pquotes.items()\n",
    "}"
   ]
  },
  {
   "cell_type": "code",
   "execution_count": 43,
   "metadata": {},
   "outputs": [
    {
     "name": "stdout",
     "output_type": "stream",
     "text": [
      "Quiz created. id=1 quote='Democratical States must always feel before they can see: it is this that makes their Governments slow, but the people will be right at last.' correct_answer='George Washington' choices=['George Washington', 'Benjamin Harrison', 'Millard Fillmore', 'Richard Nixon']\n",
      "Quiz created. id=2 quote='If they have real grievances redress them, if possible; or acknowledge the justice of them, and your inability to do it at the moment. If they have not, employ the force of government against them at once.' correct_answer='George Washington' choices=['Calvin Coolidge', 'George Washington', 'John Adams', 'Franklin D. Roosevelt']\n",
      "Quiz created. id=3 quote='I have already intimated to you the danger of parties in the state, with particular reference to the founding of them on geographical discriminations. Let me now take a more comprehensive view, and warn you in the most solemn manner against the baneful effects of the spirit of party, generally.' correct_answer='George Washington' choices=['George H. W. Bush', 'Andrew Johnson', 'George Washington', 'Abraham Lincoln']\n",
      "Quiz created. id=4 quote='Discipline is the soul of an army. It makes small numbers formidable; procures success to the weak, and esteem to all.' correct_answer='George Washington' choices=['George Washington', 'Abraham Lincoln', 'James K. Polk', 'Grover Cleveland']\n",
      "Quiz created. id=5 quote='Harmony, liberal intercourse with all nations, are recommended by policy, humanity, and interest.' correct_answer='George Washington' choices=['William McKinley', 'George Washington', 'Herbert Hoover', 'John Quincy Adams']\n",
      "Quiz created. id=6 quote='Example, whether it be good or bad, has a powerful influence.' correct_answer='George Washington' choices=['George Washington', 'Ulysses S. Grant', 'Thomas Jefferson', 'Martin Van Buren']\n",
      "Quiz created. id=7 quote='You will, by the dignity of your Conduct, afford occasion for Posterity to say, when speaking of the glorious example you have exhibited to Mankind, had this day been wanting, the World had never seen the last stage of perfection to which human nature is capable of attaining.' correct_answer='George Washington' choices=['Barack Obama', 'George Washington', 'Ulysses S. Grant', 'Dwight D. Eisenhower']\n",
      "Quiz created. id=8 quote='It is infinitely better to have a few good men than many indifferent ones.' correct_answer='George Washington' choices=['Bill Clinton', 'George Washington', 'Zachary Taylor', 'John Adams']\n",
      "Quiz created. id=9 quote='All see, and most admire, the glare which hovers round the external trappings of elevated office. To me there is nothing in it, beyond the lustre which may be reflected from its connection with a power of promoting human felicity.' correct_answer='George Washington' choices=['George Washington', 'Abraham Lincoln', 'Franklin D. Roosevelt', 'James Madison']\n",
      "Quiz created. id=10 quote='Do not conceive that fine Clothes make fine Men, any more than fine feathers make fine Birds—A plain genteel dress is more admired and obtains more credit than lace & embroidery in the Eyes of the judicious and sensible.' correct_answer='George Washington' choices=['Calvin Coolidge', 'George Washington', 'James K. Polk', 'John Quincy Adams']\n",
      "Quiz created. id=11 quote='Let the human mind loose. It must be loose. It will be loose. Superstition and dogmatism cannot confine it.' correct_answer='John Adams' choices=['James Monroe', 'Warren G. Harding', 'John Adams', 'James K. Polk']\n",
      "Quiz created. id=12 quote='Our obligations to our country never cease but with our lives.' correct_answer='John Adams' choices=['James Monroe', 'James A. Garfield', 'Benjamin Harrison', 'John Adams']\n",
      "Quiz created. id=13 quote='A native of America who cannot read and write is as rare an appearance as a Jacobite or a Roman Catholic, that is, as rare as a comet or an earthquake.' correct_answer='John Adams' choices=['Andrew Jackson', 'Gerald R. Ford', 'John Adams', 'Warren G. Harding']\n",
      "Quiz created. id=14 quote='I had heard my father say that he never knew a piece of land run away or break.' correct_answer='John Adams' choices=['Warren G. Harding', 'Harry S. Truman', 'John Adams', 'Martin Van Buren']\n",
      "Quiz created. id=15 quote='What other form of government, indeed, can so well deserve our esteem and love?' correct_answer='John Adams' choices=['Joe Biden', 'Donald Trump', 'Thomas Jefferson', 'John Adams']\n",
      "Quiz created. id=16 quote='I always consider the settlement of America with reverence and wonder, as the opening of a grand scene and design in providence, for the illumination of the ignorant and the emancipation of the slavish part of mankind all over the earth.' correct_answer='John Adams' choices=['Harry S. Truman', 'Jimmy Carter', 'John Adams', 'Warren G. Harding']\n",
      "Quiz created. id=17 quote=\"I read my eyes out and can't read half enough. … The more one reads the more one sees we have to read.\" correct_answer='John Adams' choices=['Donald Trump', 'Abraham Lincoln', 'John Adams', 'James Madison']\n",
      "Quiz created. id=18 quote='The new Government has my best Wishes and most fervent Prayers, for its Success and Prosperity: but whether I shall have any Thing more to do with it, besides praying for it, depends on the future suffrages of Freemen.' correct_answer='John Adams' choices=['Ronald Reagan', 'Abraham Lincoln', 'John Adams', 'Dwight D. Eisenhower']\n",
      "Quiz created. id=19 quote='As long as Property exists, it will accumulate in Individuals and Families. As long as Marriage exists, Knowledge, Property and Influence will accumulate in Families.' correct_answer='John Adams' choices=['John Quincy Adams', 'John Adams', 'Herbert Hoover', 'Grover Cleveland']\n",
      "Quiz created. id=20 quote='A government of laws, and not of men.' correct_answer='John Adams' choices=['Dwight D. Eisenhower', 'Richard Nixon', 'John Adams', 'Grover Cleveland']\n",
      "Quiz created. id=21 quote='Our people... will give you all the necessaries of war they produce, if, instead of the bankrupt trash they now are obliged to receive for want of any other, you will give them a paper promise funded on a specific pledge, and of a size for common circulation.' correct_answer='Thomas Jefferson' choices=['Lyndon B. Johnson', 'Thomas Jefferson', 'James K. Polk', 'John Adams']\n",
      "Quiz created. id=22 quote='The States should be urged to concede to the General Government, with a saving of chartered rights, the exclusive power of establishing banks of discount for paper.' correct_answer='Thomas Jefferson' choices=['Joe Biden', 'Thomas Jefferson', 'Millard Fillmore', 'Dwight D. Eisenhower']\n",
      "Quiz created. id=23 quote='One loves to possess arms, though they hope never to have occasion for them.' correct_answer='Thomas Jefferson' choices=['Abraham Lincoln', 'Thomas Jefferson', 'Grover Cleveland', 'John Tyler']\n",
      "Quiz created. id=24 quote='Were we directed from Washington when to sow and when to reap, we should soon want bread.' correct_answer='Thomas Jefferson' choices=['John Quincy Adams', 'Thomas Jefferson', 'Bill Clinton', 'George W. Bush']\n",
      "Quiz created. id=25 quote='I had rather be shut up in a very modest cottage with my books, my family and a few old friends, dining on simple bacon, and letting the world roll on as it liked, than to occupy the most splendid post, which any human power can give.' correct_answer='Thomas Jefferson' choices=['Calvin Coolidge', 'Benjamin Harrison', 'Thomas Jefferson', 'John Quincy Adams']\n",
      "Quiz created. id=26 quote='A free people [claim] their rights, as derived from the laws of nature, and not as the gift of their chief magistrate.' correct_answer='Thomas Jefferson' choices=['George H. W. Bush', 'Ulysses S. Grant', 'Thomas Jefferson', 'George W. Bush']\n",
      "Quiz created. id=27 quote='I am not afraid to appeal to the nation at large, to posterity, and still less to that Being Who sees Himself our motives, Who will judge us from His own knowledge of them.' correct_answer='Thomas Jefferson' choices=['Andrew Johnson', 'Calvin Coolidge', 'Thomas Jefferson', 'Woodrow Wilson']\n",
      "Quiz created. id=28 quote='The abolition of the evil is not impossible; it ought never therefore to be despaired of. Every plan should be adopted, every experiment tried, which may do something towards the ultimate object.' correct_answer='Thomas Jefferson' choices=['James A. Garfield', 'John Quincy Adams', 'Thomas Jefferson', 'James Madison']\n",
      "Quiz created. id=29 quote='It is not by the consolidation or concentration, of powers, but by their distribution that good government is effected.' correct_answer='Thomas Jefferson' choices=['Donald Trump', 'William McKinley', 'George Washington', 'Thomas Jefferson']\n",
      "Quiz created. id=30 quote='The selfish spirit of commerce knows no country, and feels no passion or principle but that of gain.' correct_answer='Thomas Jefferson' choices=['Warren G. Harding', 'Benjamin Harrison', 'Thomas Jefferson', 'James Madison']\n",
      "Quiz created. id=31 quote='This idea of reserving right to withdraw was started at Richmd. & considered as a conditional ratification which was itself considered as worse than a rejection.' correct_answer='James Madison' choices=['Benjamin Harrison', 'Richard Nixon', 'James Madison', 'Martin Van Buren']\n",
      "Quiz created. id=32 quote='Twenty years will produce all the mischief that can be apprehended from the liberty to import slaves. So long a term will be more dishonorable to the National character than to say nothing about it in the Constitution.' correct_answer='James Madison' choices=['George H. W. Bush', 'George Washington', 'Zachary Taylor', 'James Madison']\n",
      "Quiz created. id=33 quote='But we are always to keep in mind that it is safer to trust the consequences of a right principle, than reasonings in support of a bad one.' correct_answer='James Madison' choices=['Andrew Jackson', 'Benjamin Harrison', 'John Adams', 'James Madison']\n",
      "Quiz created. id=34 quote='\"Religious bondage shackles and debilitates the mind and unfits it for every noble enterprize, every expanded prospect.\"' correct_answer='James Madison' choices=['Donald Trump', 'Gerald R. Ford', 'Millard Fillmore', 'James Madison']\n",
      "Quiz created. id=35 quote='Religion & Govt. will both exist in greater purity, the less they are mixed together.' correct_answer='James Madison' choices=['George H. W. Bush', 'Chester A. Arthur', 'Joe Biden', 'James Madison']\n",
      "Quiz created. id=36 quote='It has been said that America is a country for the poor, not for the rich. There would be more correctness in saying it is the country for both, where the latter have a relish for free government; but, proportionally, more for the former than for the latter.' correct_answer='James Madison' choices=['Benjamin Harrison', 'Thomas Jefferson', 'James Madison', 'Franklin Pierce']\n",
      "Quiz created. id=37 quote='Another of my wishes is to depend as little as possible on the labor of slaves.' correct_answer='James Madison' choices=['George H. W. Bush', 'John Quincy Adams', 'Benjamin Harrison', 'James Madison']\n",
      "Quiz created. id=38 quote='No man is allowed to be a judge in his own cause; because his interest would certainly bias his judgment, and, not improbably, corrupt his integrity. With equal, nay with greater reason, a body of men are unfit to be both judges and parties at the same time.' correct_answer='James Madison' choices=['Warren G. Harding', 'Ulysses S. Grant', 'James Madison', 'George W. Bush']\n",
      "Quiz created. id=39 quote='A rage for paper money, for an abolition of debts, for an equal division of property, or for any other improper or wicked project.' correct_answer='James Madison' choices=['Calvin Coolidge', 'Theodore Roosevelt', 'James Madison', 'Franklin Pierce']\n",
      "Quiz created. id=40 quote='Ambition must be made to counteract ambition.' correct_answer='James Madison' choices=['James Buchanan', 'Thomas Jefferson', 'James Madison', 'William Howard Taft']\n",
      "Quiz created. id=41 quote='The mention of Greece fills the mind with the most exalted sentiments and arouses in our bosoms the best feelings of which our nature is capable.' correct_answer='James Monroe' choices=['James Monroe', 'Andrew Jackson', 'Joe Biden', 'George W. Bush']\n",
      "Quiz created. id=42 quote='The American continents, by the free and independent condition which they have assumed and maintain, are henceforth not to be considered as subjects for future colonization by any European power.' correct_answer='James Monroe' choices=['James Monroe', 'Abraham Lincoln', 'James Madison', 'John Tyler']\n",
      "Quiz created. id=43 quote='National honor is the national property of the highest value.' correct_answer='James Monroe' choices=['James Monroe', 'William McKinley', 'James Buchanan', 'Richard Nixon']\n",
      "Quiz created. id=44 quote='In the wars of the European powers in matters relating to themselves we have never taken any part, nor does it comport with our policy so to do.' correct_answer='James Monroe' choices=['James Monroe', 'James A. Garfield', 'Zachary Taylor', 'Woodrow Wilson']\n",
      "Quiz created. id=45 quote='All men profess honesty as long as they can. To believe all men honest would be folly. To believe none so is something worse.' correct_answer='John Quincy Adams' choices=['Donald Trump', 'John Quincy Adams', 'Ulysses S. Grant', 'Warren G. Harding']\n",
      "Quiz created. id=46 quote='My wants are many, and, if told,  Would muster many a score;  And were each wish a mint of gold,  I still would want for more.' correct_answer='John Quincy Adams' choices=['James Monroe', 'Calvin Coolidge', 'John Quincy Adams', 'Martin Van Buren']\n",
      "Quiz created. id=47 quote='To furnish the means of acquiring knowledge is … the greatest benefit that can be conferred upon mankind. It prolongs life itself and enlarges the sphere of existence.' correct_answer='John Quincy Adams' choices=['George Washington', 'Chester A. Arthur', 'John Quincy Adams', 'Franklin D. Roosevelt']\n",
      "Quiz created. id=48 quote='La molesse est doce, et sa suite est cruelle.' correct_answer='John Quincy Adams' choices=['George H. W. Bush', 'John Quincy Adams', 'John Tyler', 'Martin Van Buren']\n",
      "Quiz created. id=49 quote='Individual liberty is individual power, and as the power of a community is a mass compounded of individual powers, the nation which enjoys the most freedom must necessarily be in proportion to its numbers the most powerful nation.' correct_answer='John Quincy Adams' choices=['Calvin Coolidge', 'John Quincy Adams', 'Abraham Lincoln', 'Woodrow Wilson']\n",
      "Quiz created. id=50 quote=\"Who but shall learn that freedom is the prize  Man still is bound to rescue or maintain;  That nature's God commands the slave to rise,  And on the oppressor's head to break the chain.  Roll, years of promise, rapidly roll round,  Till not a slave shall on this earth be found.\" correct_answer='John Quincy Adams' choices=['Joe Biden', 'John Quincy Adams', 'Thomas Jefferson', 'Bill Clinton']\n",
      "Quiz created. id=51 quote='This is the last of Earth! I am content.' correct_answer='John Quincy Adams' choices=['William McKinley', 'John Quincy Adams', 'Abraham Lincoln', 'Rutherford B. Hayes']\n",
      "Quiz created. id=52 quote='All the public business in Congress now connects itself with intrigues, and there is great danger that the whole government will degenerate into a struggle of cabals.' correct_answer='John Quincy Adams' choices=['John Quincy Adams', 'Harry S. Truman', 'Bill Clinton', 'George W. Bush']\n",
      "Quiz created. id=53 quote='The decision of the Supreme court has fell still born, and they find that it cannot coerce Georgia to yield to its mandate.' correct_answer='Andrew Jackson' choices=['Lyndon B. Johnson', 'Andrew Jackson', 'John F. Kennedy', 'Bill Clinton']\n",
      "Quiz created. id=54 quote='But you must remember, my fellow-citizens, that eternal vigilance by the people is the price of liberty, and that you must pay the price if you wish to secure the blessing.' correct_answer='Andrew Jackson' choices=['William McKinley', 'Andrew Jackson', 'Benjamin Harrison', 'Thomas Jefferson']\n",
      "Quiz created. id=55 quote='Internal improvement and the diffusion of knowledge, so far as they can be promoted by the constitutional acts of the Federal Government, are of high importance.' correct_answer='Andrew Jackson' choices=['William Henry Harrison', 'Andrew Jackson', 'Dwight D. Eisenhower', 'Rutherford B. Hayes']\n",
      "Quiz created. id=56 quote='The people are the government, administering it by their agents; they are the Government, the sovereign power.' correct_answer='Andrew Jackson' choices=['Harry S. Truman', 'Andrew Jackson', 'Benjamin Harrison', 'Warren G. Harding']\n",
      "Quiz created. id=57 quote='As long as our government is administered for the good of the people, and is regulated by their will; as long as it secures to us the rights of person and of property, liberty of conscience, and of the press, it will be worth defending.' correct_answer='Andrew Jackson' choices=['Andrew Jackson', 'James Buchanan', 'Ulysses S. Grant', 'William Henry Harrison']\n",
      "Quiz created. id=58 quote='It was settled by the Constitution, the laws, and the whole practice of the government that the entire executive power is vested in the President of the United States.' correct_answer='Andrew Jackson' choices=['George H. W. Bush', 'Andrew Jackson', 'Theodore Roosevelt', 'George W. Bush']\n",
      "Quiz created. id=59 quote='The brave man inattentive to his duty, is worth little more to his country, than the coward who deserts her in the hour of danger.' correct_answer='Andrew Jackson' choices=['Herbert Hoover', 'Andrew Jackson', 'William Henry Harrison', 'John Quincy Adams']\n",
      "Quiz created. id=60 quote='Desperate courage makes One a majority.' correct_answer='Andrew Jackson' choices=['Andrew Jackson', 'James Buchanan', 'Ronald Reagan', 'Ulysses S. Grant']\n",
      "Quiz created. id=61 quote='The wisdom of man never yet contrived a system of taxation that would operate with perfect equality.' correct_answer='Andrew Jackson' choices=['Bill Clinton', 'Andrew Jackson', 'Ulysses S. Grant', 'Ronald Reagan']\n",
      "Quiz created. id=62 quote='The individual who refuses to defend his rights when called by his Government, deserves to be a slave, and must be punished as an enemy of his country and friend to her foe.' correct_answer='Andrew Jackson' choices=['Joe Biden', 'Andrew Jackson', 'Zachary Taylor', 'Dwight D. Eisenhower']\n",
      "Quiz created. id=63 quote='The practice of all my predecessors imposes on me an obligation I cheerfully fulfill—to accompany the first and solemn act of my public trust with an avowal of the principles that will guide me in performing it and an expression of my feelings on assuming a charge so responsible and vast.' correct_answer='Martin Van Buren' choices=['Joe Biden', 'Chester A. Arthur', 'Woodrow Wilson', 'Martin Van Buren']\n",
      "Quiz created. id=64 quote='It may be observed, however, that organized associations of citizens requiring compliance with their wishes too much resemble the recommendations of Athens to her allies, supported by an armed and powerful fleet.' correct_answer='William Henry Harrison' choices=['Calvin Coolidge', 'Ronald Reagan', 'William Henry Harrison', 'Grover Cleveland']\n",
      "Quiz created. id=65 quote='The people of the District of Columbia are not the subjects of the people of the States, but free American citizens.' correct_answer='William Henry Harrison' choices=['Chester A. Arthur', 'Zachary Taylor', 'Bill Clinton', 'William Henry Harrison']\n",
      "Quiz created. id=66 quote='There is no part of the means placed in the hands of the Executive which might be used with greater effect for unhallowed purposes than the control of the public press.' correct_answer='William Henry Harrison' choices=['Harry S. Truman', 'Franklin D. Roosevelt', 'John Adams', 'William Henry Harrison']\n",
      "Quiz created. id=67 quote='I have determined never to remove a Secretary of the Treasury without communicating all the circumstances attending such removal to both Houses of Congress.' correct_answer='William Henry Harrison' choices=['Rutherford B. Hayes', 'Bill Clinton', 'William Henry Harrison', 'Grover Cleveland']\n",
      "Quiz created. id=68 quote='The strongest of all governments is that which is most free.' correct_answer='William Henry Harrison' choices=['Thomas Jefferson', 'Franklin D. Roosevelt', 'William Henry Harrison', 'Dwight D. Eisenhower']\n",
      "Quiz created. id=69 quote='Sir, I wish you to understand the true principles of the government. I wish them carried out. I ask nothing more.' correct_answer='William Henry Harrison' choices=['George H. W. Bush', 'Donald Trump', 'Joe Biden', 'William Henry Harrison']\n",
      "Quiz created. id=70 quote='...all the measures of the Government are directed to the purpose of making the rich richer and the poor poorer' correct_answer='William Henry Harrison' choices=['George H. W. Bush', 'Calvin Coolidge', 'Thomas Jefferson', 'William Henry Harrison']\n",
      "Quiz created. id=71 quote='The only legitimate right to govern is an express grant of power from the governed.' correct_answer='William Henry Harrison' choices=['William McKinley', 'Woodrow Wilson', 'Bill Clinton', 'William Henry Harrison']\n",
      "Quiz created. id=72 quote='If the tide of defamation and abuse shall turn, and my administration come to be praised, future Vice-Presidents who may succeed to the Presidency may feel some slight encouragement to pursue an independent course.' correct_answer='John Tyler' choices=['James A. Garfield', 'William McKinley', 'Franklin D. Roosevelt', 'John Tyler']\n",
      "Quiz created. id=73 quote='Wealth can only be accumulated by the earnings of industry and the savings of frugality.' correct_answer='John Tyler' choices=['Andrew Jackson', 'James Buchanan', 'George W. Bush', 'John Tyler']\n",
      "Quiz created. id=74 quote='Popularity, I have always thought, may aptly be compared to a coquette—the more you woo her, the more apt is she to elude your embrace.' correct_answer='John Tyler' choices=['Barack Obama', 'Warren G. Harding', 'John Adams', 'John Tyler']\n",
      "Quiz created. id=75 quote='In 1840 I was called from my farm to undertake the administration of public affairs and I foresaw that I was called to a bed of thorns. I now leave that bed which has afforded me little rest, and eagerly seek repose in the quiet enjoyments of rural life.' correct_answer='John Tyler' choices=['Herbert Hoover', 'Benjamin Harrison', 'James Madison', 'John Tyler']\n",
      "Quiz created. id=76 quote='So far as it depends on the course of this government, our relations of good will and friendship will be sedulously cultivated with all nations.' correct_answer='John Tyler' choices=['Harry S. Truman', 'Jimmy Carter', 'Martin Van Buren', 'John Tyler']\n",
      "Quiz created. id=77 quote='Patronage is the sword and cannon by which war may be made on the liberty of the human race.' correct_answer='John Tyler' choices=['George Washington', 'Jimmy Carter', 'Andrew Jackson', 'John Tyler']\n",
      "Quiz created. id=78 quote=\"Let it, then, be henceforth proclaimed to the world, that man's conscience was created free; that he is no longer accountable to his fellow man for his religious opinions, being responsible therefore only to his God.\" correct_answer='John Tyler' choices=['William McKinley', 'Richard Nixon', 'Martin Van Buren', 'John Tyler']\n",
      "Quiz created. id=79 quote='It becomes us, in humility, to make our devout acknowledgments to the Supreme Ruler of the Universe, for the inestimable civil and religious blessings with which we are favored.' correct_answer='James K. Polk' choices=['John Quincy Adams', 'Jimmy Carter', 'James K. Polk', 'Dwight D. Eisenhower']\n",
      "Quiz created. id=80 quote='The passion for office among members of Congress is very great, if not absolutely disreputable, and greatly embarrasses the operations of the government. They create offices by their own votes and then seek to fill them themselves.' correct_answer='James K. Polk' choices=['Joe Biden', 'Donald Trump', 'Benjamin Harrison', 'James K. Polk']\n",
      "Quiz created. id=81 quote='Thank God, under our Constitution there was no connection between church and state.' correct_answer='James K. Polk' choices=['Calvin Coolidge', 'Theodore Roosevelt', 'James K. Polk', 'William Henry Harrison']\n",
      "Quiz created. id=82 quote=\"Well may the boldest fear and the wisest tremble when incurring responsibilities on which may depend our country's peace and prosperity, and in some degree the hopes and happiness of the whole human family.\" correct_answer='James K. Polk' choices=['George H. W. Bush', 'James A. Garfield', 'James K. Polk', 'James Madison']\n",
      "Quiz created. id=83 quote='Foreign powers do not seem to appreciate the true character of our Government.' correct_answer='James K. Polk' choices=['George Washington', 'John F. Kennedy', 'James K. Polk', 'James Madison']\n",
      "Quiz created. id=84 quote='I am heartily rejoiced that my term is so near its close. I will soon cease to be a servant and will become a sovereign.' correct_answer='James K. Polk' choices=['Richard Nixon', 'John Adams', 'James K. Polk', 'Grover Cleveland']\n",
      "Quiz created. id=85 quote='I love you Sarah. For all eternity, I love you.' correct_answer='James K. Polk' choices=['Donald Trump', 'Andrew Johnson', 'Warren G. Harding', 'James K. Polk']\n",
      "Quiz created. id=86 quote='The world has nothing to fear from military ambition in our Government.' correct_answer='James K. Polk' choices=['Ulysses S. Grant', 'James K. Polk', 'George W. Bush', 'John Tyler']\n",
      "Quiz created. id=87 quote='With me it is emphatically true that the presidency is \"no bed of roses.\"' correct_answer='James K. Polk' choices=['Bill Clinton', 'Benjamin Harrison', 'Jimmy Carter', 'James K. Polk']\n",
      "Quiz created. id=88 quote='There is more selfishness and less principle among members of Congress, as well as others, than I had any conception [of], before I became President of the U.S.' correct_answer='James K. Polk' choices=['Jimmy Carter', 'James K. Polk', 'James Madison', 'Franklin Pierce']\n",
      "Quiz created. id=89 quote='May God save the country, for it is evident that the people will not.' correct_answer='Millard Fillmore' choices=['Ronald Reagan', 'Millard Fillmore', 'John Tyler', 'Martin Van Buren']\n",
      "Quiz created. id=90 quote='You have summoned me in my weakness. You must sustain me by your strength.' correct_answer='Franklin Pierce' choices=['Joe Biden', 'John Quincy Adams', 'Franklin D. Roosevelt', 'Franklin Pierce']\n",
      "Quiz created. id=91 quote='I never justify, sustain, or in any way or to any extent uphold this cruel, heartless, aimless unnecessary war.' correct_answer='Franklin Pierce' choices=['Chester A. Arthur', 'John Tyler', 'Grover Cleveland', 'Franklin Pierce']\n",
      "Quiz created. id=92 quote='What is right and what is practicable are two different things.' correct_answer='James Buchanan' choices=['James Buchanan', 'Thomas Jefferson', 'Woodrow Wilson', 'Dwight D. Eisenhower']\n",
      "Quiz created. id=93 quote='Liberty must be allowed to work out its natural results; and these will, ere long, astonish the world.' correct_answer='James Buchanan' choices=['James Monroe', 'Barack Obama', 'James Buchanan', 'James K. Polk']\n",
      "Quiz created. id=94 quote='The Confederacy stands for slavery and the Union for freedom.' correct_answer='Abraham Lincoln' choices=['John Quincy Adams', 'Richard Nixon', 'Abraham Lincoln', 'James K. Polk']\n",
      "Quiz created. id=95 quote='Neither let us be slandered from our duty by false accusations against us, nor frightened from it by menaces of destruction to the Government, nor of dungeons to ourselves. Let us have faith that right makes might; and in that faith, let us, to the end, dare to do our duty, as we understand it.' correct_answer='Abraham Lincoln' choices=['Andrew Johnson', 'Abraham Lincoln', 'Woodrow Wilson', 'Herbert Hoover']\n",
      "Quiz created. id=96 quote=\"Don't interfere with anything in the Constitution. That must be maintained, for it is the only safeguard of our liberties. And not to Democrats alone do I make this appeal, but to all who love these great and true principles.\" correct_answer='Abraham Lincoln' choices=['Abraham Lincoln', 'Dwight D. Eisenhower', 'Herbert Hoover', 'John Tyler']\n",
      "Quiz created. id=97 quote='Every man is said to have his peculiar ambition. Whether it be true or not, I can say, for one, that I have no other so great as that of being truly esteemed of my fellow-men, by rendering myself worthy of their esteem.' correct_answer='Abraham Lincoln' choices=['James Monroe', 'Barack Obama', 'Abraham Lincoln', 'Joe Biden']\n",
      "Quiz created. id=98 quote='Senator Douglas holds, we know, that a man may rightfully be wiser today than he was yesterday — that he may rightfully change when he finds himself wrong. But can we, for that reason, run ahead, and infer that he will make any particular change, of which he, himself, has given no intimation?' correct_answer='Abraham Lincoln' choices=['Warren G. Harding', 'Jimmy Carter', 'Abraham Lincoln', 'John Adams']\n",
      "Quiz created. id=99 quote='While the people retain their virtue and vigilance, no administration, by any extreme of wickedness or folly, can very seriously injure the government in the short space of four years.' correct_answer='Abraham Lincoln' choices=['George H. W. Bush', 'Richard Nixon', 'Abraham Lincoln', 'John Adams']\n",
      "Quiz created. id=100 quote='In the present \"situation\" as the phrase goes, it may be my duty to make some new announcement to the people of the South. I am considering, and shall not fail to act, when satisfied that action will be proper.' correct_answer='Abraham Lincoln' choices=['Jimmy Carter', 'Abraham Lincoln', 'John Adams', 'Franklin Pierce']\n",
      "Quiz created. id=101 quote='In times like the present, men should utter nothing for which they would not willingly be responsible through time and in eternity.' correct_answer='Abraham Lincoln' choices=['George Washington', 'Abraham Lincoln', 'Millard Fillmore', 'John Quincy Adams']\n",
      "Quiz created. id=102 quote='Without slavery the rebellion could never have existed; without slavery it could not continue.' correct_answer='Abraham Lincoln' choices=['Zachary Taylor', 'Richard Nixon', 'Abraham Lincoln', 'Franklin Pierce']\n",
      "Quiz created. id=103 quote='The dogmas of the quiet past are inadequate to the stormy present. The occasion is piled high with difficulty, and we must rise with the occasion. As our case is new, so we must think anew and act anew. We must disenthrall ourselves, and then we shall save our country.' correct_answer='Abraham Lincoln' choices=['Bill Clinton', 'Abraham Lincoln', 'Franklin D. Roosevelt', 'James Madison']\n",
      "Quiz created. id=104 quote='The goal to strive for is a poor government but a rich people.' correct_answer='Andrew Johnson' choices=['James Monroe', 'Andrew Johnson', 'John Adams', 'Dwight D. Eisenhower']\n",
      "Quiz created. id=105 quote='Legislation can neither be wise nor just which seeks the welfare of a single interest at the expense and to the injury of many and varied interests at least equally important and equally deserving the considerations of Congress.' correct_answer='Andrew Johnson' choices=['Andrew Johnson', 'James Buchanan', 'James Madison', 'Franklin Pierce']\n",
      "Quiz created. id=106 quote='Whenever you hear a man prating about the Constitution, spot him as a traitor.' correct_answer='Andrew Johnson' choices=['Andrew Johnson', 'John F. Kennedy', 'William Henry Harrison', 'John Tyler']\n",
      "Quiz created. id=107 quote='I hold it the duty of the Executive to insist upon frugality in the expenditures, and a sparing economy is itself a great national resource.' correct_answer='Andrew Johnson' choices=['Andrew Johnson', 'Franklin D. Roosevelt', 'William Henry Harrison', 'Herbert Hoover']\n",
      "Quiz created. id=108 quote='I must be permitted to say that I have been almost overwhelmed by the announcement of the sad event which has so recently occurred. I feel incompetent to perform duties so important and responsible as those which have been so unexpectedly thrown upon me.' correct_answer='Andrew Johnson' choices=['Andrew Johnson', 'Warren G. Harding', 'Abraham Lincoln', 'Calvin Coolidge']\n",
      "Quiz created. id=109 quote='There are no good laws but such as repeal other laws.' correct_answer='Andrew Johnson' choices=['Andrew Johnson', 'Ronald Reagan', 'Dwight D. Eisenhower', 'John Tyler']\n",
      "Quiz created. id=110 quote='Wherever the enemy goes let our troops go also.' correct_answer='Ulysses S. Grant' choices=['William Howard Taft', 'Ulysses S. Grant', 'Theodore Roosevelt', 'Franklin Pierce']\n",
      "Quiz created. id=111 quote='The effects of the late civil strife have been to free the slave and make him a citizen. Yet he is not possessed of the civil rights which citizenship should carry with it. This is wrong, and should be corrected. To this correction I stand committed, so far as Executive influence can avail.' correct_answer='Ulysses S. Grant' choices=['Joe Biden', 'James A. Garfield', 'Ulysses S. Grant', 'Woodrow Wilson']\n",
      "Quiz created. id=112 quote='Wars produce many stories of fiction, some of which are told until they are believed to be true.' correct_answer='Ulysses S. Grant' choices=['Donald Trump', 'James A. Garfield', 'Ulysses S. Grant', 'Zachary Taylor']\n",
      "Quiz created. id=113 quote='[A] measure of grander importance than any other one act of the kind from the foundation of our free government to the present day.' correct_answer='Ulysses S. Grant' choices=['James A. Garfield', 'Ulysses S. Grant', 'John Adams', 'Bill Clinton']\n",
      "Quiz created. id=114 quote='You can violate the law. The banks may violate the law and be sustained in doing so. But the President of the United States cannot violate the law.' correct_answer='Ulysses S. Grant' choices=['Ulysses S. Grant', 'Zachary Taylor', 'James Madison', 'Franklin Pierce']\n",
      "Quiz created. id=115 quote=\"I only know two tunes. One is Yankee Doodle, and the other one isn't.\" correct_answer='Ulysses S. Grant' choices=['Gerald R. Ford', 'Chester A. Arthur', 'Ulysses S. Grant', 'Zachary Taylor']\n",
      "Quiz created. id=116 quote='Is he really dead?' correct_answer='Ulysses S. Grant' choices=['Lyndon B. Johnson', 'James Buchanan', 'Ulysses S. Grant', 'Rutherford B. Hayes']\n",
      "Quiz created. id=117 quote='Pete, let us have another game of brag, to recall the days that were so pleasant.' correct_answer='Ulysses S. Grant' choices=['Ulysses S. Grant', 'Abraham Lincoln', 'Franklin D. Roosevelt', 'Richard Nixon']\n",
      "Quiz created. id=118 quote='Dear father, I have received several letters from Mary and yourself, but as I have to deal with nineteen-twentieths of those received, have neglected to answer them.' correct_answer='Ulysses S. Grant' choices=['Harry S. Truman', 'Warren G. Harding', 'Ulysses S. Grant', 'John Adams']\n",
      "Quiz created. id=119 quote='God gave us Lincoln and Liberty, let us fight for both.' correct_answer='Ulysses S. Grant' choices=['Thomas Jefferson', 'Ulysses S. Grant', 'Jimmy Carter', 'Richard Nixon']\n",
      "Quiz created. id=120 quote='We now talk of our killed and wounded. There is however a very happy feeling. Those who escape regret of course the loss of comrades and friends, but their own escape and safety to some extent modifies their feelings.' correct_answer='Rutherford B. Hayes' choices=['Calvin Coolidge', 'Ulysses S. Grant', 'Rutherford B. Hayes', 'George W. Bush']\n",
      "Quiz created. id=121 quote='Abolish plutocracy if you would abolish poverty. As millionaires increase, pauperism grows. The more millionaires, the more paupers.' correct_answer='Rutherford B. Hayes' choices=['James Buchanan', 'Richard Nixon', 'Rutherford B. Hayes', 'Dwight D. Eisenhower']\n",
      "Quiz created. id=122 quote='It will be the duty of the Executive, with sufficient appropriations for the purpose, to prosecute unsparingly all who have been engaged in depriving citizens of the rights guaranteed to them by the Constitution.' correct_answer='Rutherford B. Hayes' choices=['Barack Obama', 'Zachary Taylor', 'Rutherford B. Hayes', 'Franklin Pierce']\n",
      "Quiz created. id=123 quote='Virtue is defined to be mediocrity, of which either extreme is vice.' correct_answer='Rutherford B. Hayes' choices=['James Madison', 'Herbert Hoover', 'Theodore Roosevelt', 'Rutherford B. Hayes']\n",
      "Quiz created. id=124 quote='Strikes and boycotting are akin to war, and can be justified only on grounds analogous to those which justify war, viz., intolerable injustice and oppression.' correct_answer='Rutherford B. Hayes' choices=['Andrew Johnson', 'Zachary Taylor', 'Rutherford B. Hayes', 'Franklin Pierce']\n",
      "Quiz created. id=125 quote='Do not let your bachelor ways crystallize so that you can’t soften them when you come to have a wife and a family of your own.' correct_answer='Rutherford B. Hayes' choices=['Donald Trump', 'John Quincy Adams', 'Rutherford B. Hayes', 'Martin Van Buren']\n",
      "Quiz created. id=126 quote='I hope you will be benefitted by your churchgoing. Where the habit does not Christianize, it generally civilizes. That is reason enough for supporting churches, if there were no higher.' correct_answer='Rutherford B. Hayes' choices=['Ronald Reagan', 'William Henry Harrison', 'Rutherford B. Hayes', 'Ulysses S. Grant']\n",
      "Quiz created. id=127 quote='The [Loyal] legion has taken the place of the club — the famous Cincinnati Literary Club — in my affections.... The military circles are interested in the same things with myself, and so we endure, if not enjoy, each other.' correct_answer='Rutherford B. Hayes' choices=['John Quincy Adams', 'Ronald Reagan', 'Rutherford B. Hayes', 'Grover Cleveland']\n",
      "Quiz created. id=128 quote='Perhaps the happiest moment of my life was then, when I saw that our line didn’t break and that the enemy’s did.' correct_answer='Rutherford B. Hayes' choices=['Theodore Roosevelt', 'Grover Cleveland', 'Rutherford B. Hayes', 'John Tyler']\n",
      "Quiz created. id=129 quote='Disunion and civil war are at hand; and yet I fear disunion and war less than compromise. We can recover from them. The free States alone, if we must go on alone, will make a glorious nation.' correct_answer='Rutherford B. Hayes' choices=['James Madison', 'Jimmy Carter', 'Rutherford B. Hayes', 'Grover Cleveland']\n",
      "Quiz created. id=130 quote='Not in Chicago, in the heat of June, but at the ballot-boxes of the Republic, in the quiet of November, after the silence of deliberate judgment, will this question be settled. And now, gentlemen of the Convention, what do we want?' correct_answer='James A. Garfield' choices=['James A. Garfield', 'John Adams', 'James K. Polk', 'Grover Cleveland']\n",
      "Quiz created. id=131 quote='I am a poor hater.' correct_answer='James A. Garfield' choices=['Andrew Johnson', 'James A. Garfield', 'Zachary Taylor', 'Chester A. Arthur']\n",
      "Quiz created. id=132 quote='If there be one thing upon this earth that mankind love and admire better than another, it is a brave man — it is a man who dares to look the devil in the face and tell him he is a devil.' correct_answer='James A. Garfield' choices=['Barack Obama', 'James A. Garfield', 'James K. Polk', 'William Henry Harrison']\n",
      "Quiz created. id=133 quote='The President is the last person in the world to know what the people really want and think.' correct_answer='James A. Garfield' choices=['James A. Garfield', 'Theodore Roosevelt', 'Franklin D. Roosevelt', 'Rutherford B. Hayes']\n",
      "Quiz created. id=134 quote='All free governments are managed by the combined wisdom and folly of the people.' correct_answer='James A. Garfield' choices=['James A. Garfield', 'Andrew Jackson', 'Harry S. Truman', 'Bill Clinton']\n",
      "Quiz created. id=135 quote='I have had many troubles, but the worst of them never came.' correct_answer='James A. Garfield' choices=['James A. Garfield', 'Ronald Reagan', 'James K. Polk', 'Franklin Pierce']\n",
      "Quiz created. id=136 quote=\"Things don't turn up in this world until somebody turns them up.\" correct_answer='James A. Garfield' choices=['James A. Garfield', 'Gerald R. Ford', 'Lyndon B. Johnson', 'James Madison']\n",
      "Quiz created. id=137 quote=\"[To his chief of staff, David G. Swaim] Oh Swaim, there is a pain here. Swaim, can't you stop this? Oh, oh, Swaim!\" correct_answer='James A. Garfield' choices=['James A. Garfield', 'Andrew Jackson', 'Franklin D. Roosevelt', 'George W. Bush']\n",
      "Quiz created. id=138 quote='Tell her I am seriously hurt; how seriously I cannot yet say. I am myself, and hope she will come to me soon. I send my love to her.' correct_answer='James A. Garfield' choices=['James Monroe', 'James A. Garfield', 'John Quincy Adams', 'Gerald R. Ford']\n",
      "Quiz created. id=139 quote='I would rather be defeated than make capital out of my religion.' correct_answer='James A. Garfield' choices=['James A. Garfield', 'Gerald R. Ford', 'Thomas Jefferson', 'Franklin Pierce']\n",
      "Quiz created. id=140 quote='Honors to me now are not what they once were.' correct_answer='Chester A. Arthur' choices=['Chester A. Arthur', 'Benjamin Harrison', 'Richard Nixon', 'Lyndon B. Johnson']\n",
      "Quiz created. id=141 quote=\"Madam, I may be President of the United States, but my private life is nobody's damn business.\" correct_answer='Chester A. Arthur' choices=['Chester A. Arthur', 'Millard Fillmore', 'William Henry Harrison', 'John Tyler']\n",
      "Quiz created. id=142 quote='Experience has shown that the trade of the East is the key to national wealth and influence.' correct_answer='Chester A. Arthur' choices=['Chester A. Arthur', 'William McKinley', 'George W. Bush', 'Martin Van Buren']\n",
      "Quiz created. id=143 quote='What a pleasant lot of fellows they are. What a pity they have so little sense about politics. If they lived North the last one of them would be Republicans.' correct_answer='Chester A. Arthur' choices=['James Monroe', 'Chester A. Arthur', 'John F. Kennedy', 'John Tyler']\n",
      "Quiz created. id=144 quote='Men may die, but the fabric of our free institutions remains unshaken.' correct_answer='Chester A. Arthur' choices=['Chester A. Arthur', 'Franklin D. Roosevelt', 'Harry S. Truman', 'Ronald Reagan']\n",
      "Quiz created. id=145 quote='The extravagant expenditure of public money is an evil not to be measured by the value of that money to the people who are taxed for it.' correct_answer='Chester A. Arthur' choices=['Chester A. Arthur', 'Richard Nixon', 'Woodrow Wilson', 'William Henry Harrison']\n",
      "Quiz created. id=146 quote='The office of the Vice-President is a greater honor than I ever dreamed of attaining.' correct_answer='Chester A. Arthur' choices=['Andrew Johnson', 'Chester A. Arthur', 'Franklin D. Roosevelt', 'Joe Biden']\n",
      "Quiz created. id=147 quote='I trust the time is nigh when, with the universal assent of civilized people, all international differences shall be determined without resort to arms by the benignant processes of civilization.' correct_answer='Chester A. Arthur' choices=['James Monroe', 'Chester A. Arthur', 'Theodore Roosevelt', 'Millard Fillmore']\n",
      "Quiz created. id=148 quote='Party honesty is party expediency.' correct_answer='Grover Cleveland' choices=['John Quincy Adams', 'Jimmy Carter', 'Dwight D. Eisenhower', 'Grover Cleveland']\n",
      "Quiz created. id=149 quote=\"I'm only waiting for my wife to grow up.\" correct_answer='Grover Cleveland' choices=['James A. Garfield', 'James Buchanan', 'William Henry Harrison', 'Grover Cleveland']\n",
      "Quiz created. id=150 quote=\"Government resting upon the will and universal suffrage of the people has no anchorage except in the people's intelligence.\" correct_answer='Grover Cleveland' choices=['Donald Trump', 'Andrew Johnson', 'John Tyler', 'Grover Cleveland']\n",
      "Quiz created. id=151 quote='The lessons of paternalism ought to be unlearned and the better lesson taught that while the people should patriotically and cheerfully support their government, its functions do not include the support of the people.' correct_answer='Grover Cleveland' choices=['Barack Obama', 'Ronald Reagan', 'William Henry Harrison', 'Grover Cleveland']\n",
      "Quiz created. id=152 quote='WHATEVER YOU DO, TELL THE TRUTH.' correct_answer='Grover Cleveland' choices=['Chester A. Arthur', 'James Buchanan', 'Thomas Jefferson', 'Grover Cleveland']\n",
      "Quiz created. id=153 quote='The ship of Democracy, which has weathered all storms, may sink through the mutiny of those aboard.' correct_answer='Grover Cleveland' choices=['James A. Garfield', 'Benjamin Harrison', 'Millard Fillmore', 'Grover Cleveland']\n",
      "Quiz created. id=154 quote='What is the use of being elected or re-elected unless you stand for something?' correct_answer='Grover Cleveland' choices=['Thomas Jefferson', 'Bill Clinton', 'Herbert Hoover', 'Grover Cleveland']\n",
      "Quiz created. id=155 quote='I have considered the pension list of the republic a roll of honor.' correct_answer='Grover Cleveland' choices=['James Monroe', 'Harry S. Truman', 'James Buchanan', 'Grover Cleveland']\n",
      "Quiz created. id=156 quote='After an existence of nearly twenty years of almost innocuous desuetude, these laws are brought forth.' correct_answer='Grover Cleveland' choices=['Donald Trump', 'Harry S. Truman', 'Martin Van Buren', 'Grover Cleveland']\n",
      "Quiz created. id=157 quote='Public officers are the servants and agents of the people, to execute the laws which the people have made.' correct_answer='Grover Cleveland' choices=['Lyndon B. Johnson', 'Andrew Jackson', 'Ronald Reagan', 'Grover Cleveland']\n",
      "Quiz created. id=158 quote='As president of the United States, I was present, at the first pan-American congress.' correct_answer='Benjamin Harrison' choices=['Gerald R. Ford', 'Benjamin Harrison', 'Abraham Lincoln', 'Rutherford B. Hayes']\n",
      "Quiz created. id=159 quote='We Americans have no commission from God to police the world.' correct_answer='Benjamin Harrison' choices=['Rutherford B. Hayes', 'Benjamin Harrison', 'Ronald Reagan', 'Woodrow Wilson']\n",
      "Quiz created. id=160 quote='The mission of the United States is one of benevolent assimilation.' correct_answer='William McKinley' choices=['James Monroe', 'William McKinley', 'Benjamin Harrison', 'Zachary Taylor']\n",
      "Quiz created. id=161 quote='Expositions are the timekeepers of progress.' correct_answer='William McKinley' choices=['William McKinley', 'Ulysses S. Grant', 'James K. Polk', 'Martin Van Buren']\n",
      "Quiz created. id=162 quote='Let us ever remember that our interest is in concord, not in conflict; and that our real eminence rests in the victories of peace, not those of war.' correct_answer='William McKinley' choices=['William McKinley', 'Warren G. Harding', 'Ulysses S. Grant', 'Rutherford B. Hayes']\n",
      "Quiz created. id=163 quote='We need Hawaii just as much and a good deal more than we did California. It is manifest destiny.' correct_answer='William McKinley' choices=['William McKinley', 'Andrew Jackson', 'William Howard Taft', 'Franklin Pierce']\n",
      "Quiz created. id=164 quote=\"The American flag has not been planted on foreign soil to acquire more territory but for humanity's sake.\" correct_answer='William McKinley' choices=['William McKinley', 'Calvin Coolidge', 'James Buchanan', 'George W. Bush']\n",
      "Quiz created. id=165 quote='War should never be entered upon until every agency of peace has failed.' correct_answer='William McKinley' choices=['Barack Obama', 'William McKinley', 'Richard Nixon', 'James A. Garfield']\n",
      "Quiz created. id=166 quote='Our differences are policies; our agreements, principles.' correct_answer='William McKinley' choices=['Andrew Johnson', 'William McKinley', 'Donald Trump', 'Chester A. Arthur']\n",
      "Quiz created. id=167 quote='Illiteracy must be banished from the land if we shall attain that high destiny as the foremost of the enlightened nations of the world which, under Providence, we ought to achieve.' correct_answer='William McKinley' choices=['William McKinley', 'Franklin D. Roosevelt', 'Theodore Roosevelt', 'Lyndon B. Johnson']\n",
      "Quiz created. id=168 quote='Our earnest prayer is that God will graciously vouchsafe prosperity, happiness, and peace to all our neighbors, and like blessings to all the peoples and powers of earth.' correct_answer='William McKinley' choices=['Donald Trump', 'William McKinley', 'Richard Nixon', 'John Tyler']\n",
      "Quiz created. id=169 quote='We stand at Armageddon and we battle for the Lord.' correct_answer='Theodore Roosevelt' choices=['Bill Clinton', 'Theodore Roosevelt', 'James K. Polk', 'Martin Van Buren']\n",
      "Quiz created. id=170 quote='I am in this cause with my whole heart and soul. I believe that the Progressive movement is making life a little easier for all our people; a movement to try to take the burdens off the men and especially the women and children of this country. I am absorbed in the success of that movement.' correct_answer='Theodore Roosevelt' choices=['Harry S. Truman', 'Ulysses S. Grant', 'Theodore Roosevelt', 'Franklin D. Roosevelt']\n",
      "Quiz created. id=171 quote='Nevertheless, the fact that there are dangers in following a given course merely means that we should follow it with a cautious realization of these dangers, and not that we should abandon it, if on the whole it is the right course.' correct_answer='Theodore Roosevelt' choices=['Richard Nixon', 'Theodore Roosevelt', 'Millard Fillmore', 'Woodrow Wilson']\n",
      "Quiz created. id=172 quote='This country has nothing to fear from the crooked man who fails. We put him in jail. It is the crooked man who succeeds who is a threat to this country.' correct_answer='Theodore Roosevelt' choices=['Joe Biden', 'Andrew Jackson', 'Benjamin Harrison', 'Theodore Roosevelt']\n",
      "Quiz created. id=173 quote='But we must be ready to face any temporary disaster - whether or not brought on by those who will war against us to the knife — if only through such disaster can we attain our goal.' correct_answer='Theodore Roosevelt' choices=['Andrew Johnson', 'Benjamin Harrison', 'Theodore Roosevelt', 'William McKinley']\n",
      "Quiz created. id=174 quote='If a man does not have an ideal and try to live up to it, then he becomes a mean, base, and sordid creature, no matter how successful.' correct_answer='Theodore Roosevelt' choices=['Harry S. Truman', 'Gerald R. Ford', 'Theodore Roosevelt', 'William Henry Harrison']\n",
      "Quiz created. id=175 quote='Because much has been given to you, therefore we have a right to expect much from you; and we have a right to expect that you shall begin to give that much just as soon as you leave school and go to college, so that you shall count when you are there.' correct_answer='Theodore Roosevelt' choices=['Barack Obama', 'John F. Kennedy', 'Theodore Roosevelt', 'Martin Van Buren']\n",
      "Quiz created. id=176 quote='Malefactors of great wealth.' correct_answer='Theodore Roosevelt' choices=['George Washington', 'Theodore Roosevelt', 'Bill Clinton', 'Herbert Hoover']\n",
      "Quiz created. id=177 quote='I believe that the majority of the plain people of the United States will, day in and day out, make fewer mistakes in governing themselves than any smaller class or body of men, no matter what their training, will make in trying to govern them.' correct_answer='Theodore Roosevelt' choices=['Theodore Roosevelt', 'Millard Fillmore', 'John Adams', 'James K. Polk']\n",
      "Quiz created. id=178 quote='It is true of the Nation, as of the individual, that the greatest doer must also be a great dreamer.' correct_answer='Theodore Roosevelt' choices=['James Monroe', 'Benjamin Harrison', 'Theodore Roosevelt', 'Richard Nixon']\n",
      "Quiz created. id=179 quote='We are all imperfect. We can not expect perfect government.' correct_answer='William Howard Taft' choices=['William McKinley', 'Theodore Roosevelt', 'Dwight D. Eisenhower', 'William Howard Taft']\n",
      "Quiz created. id=180 quote='If humor be the safety of our race, then it is due largely to the infusion into the American people of the Irish brain.' correct_answer='William Howard Taft' choices=['Benjamin Harrison', 'John F. Kennedy', 'Theodore Roosevelt', 'William Howard Taft']\n",
      "Quiz created. id=181 quote='The welfare of the farmer is vital to that of the whole country.' correct_answer='William Howard Taft' choices=['James A. Garfield', 'George Washington', 'Franklin Pierce', 'William Howard Taft']\n",
      "Quiz created. id=182 quote='Substantial progress toward better things can rarely be taken with out developing new evils requiring new remedies.' correct_answer='William Howard Taft' choices=['Benjamin Harrison', 'Millard Fillmore', 'Ronald Reagan', 'William Howard Taft']\n",
      "Quiz created. id=183 quote='The intoxication of power rapidly sobers off in the knowledge of its restrictions and under the prompt reminder of an ever-present and not always considerate press, as well as the kindly suggestions that not infrequently come from Congress.' correct_answer='William Howard Taft' choices=['Calvin Coolidge', 'Benjamin Harrison', 'John Tyler', 'William Howard Taft']\n",
      "Quiz created. id=184 quote='We live in a stage of politics, where legislators seem to regard the passage of laws as much more important than the results of their enforcement.' correct_answer='William Howard Taft' choices=['Franklin D. Roosevelt', 'Franklin Pierce', 'Woodrow Wilson', 'William Howard Taft']\n",
      "Quiz created. id=185 quote='The world is not going to be saved by legislation.' correct_answer='William Howard Taft' choices=['Zachary Taylor', 'Millard Fillmore', 'John Adams', 'William Howard Taft']\n",
      "Quiz created. id=186 quote='The truth is that in my present life I don’t remember that I ever was president.' correct_answer='William Howard Taft' choices=['William McKinley', 'Zachary Taylor', 'George W. Bush', 'William Howard Taft']\n",
      "Quiz created. id=187 quote='I am in favor of helping the prosperity of all countries because, when we are all prosperous, the trade of each becomes more valuable to the other.' correct_answer='William Howard Taft' choices=['Warren G. Harding', 'Franklin Pierce', 'Dwight D. Eisenhower', 'William Howard Taft']\n",
      "Quiz created. id=188 quote='I am a Unitarian. I believe in God. I do not believe in the divinity of Christ, and there are many postulates of the orthodox creed to which I cannot subscribe.' correct_answer='William Howard Taft' choices=['James Monroe', 'Gerald R. Ford', 'Ronald Reagan', 'William Howard Taft']\n",
      "Quiz created. id=189 quote='No man that does not see visions will ever realize any high hope or undertake any high enterprise.' correct_answer='Woodrow Wilson' choices=['Donald Trump', 'Ulysses S. Grant', 'Thomas Jefferson', 'Woodrow Wilson']\n",
      "Quiz created. id=190 quote='Liberty is its own reward.' correct_answer='Woodrow Wilson' choices=['Gerald R. Ford', 'Chester A. Arthur', 'John F. Kennedy', 'Woodrow Wilson']\n",
      "Quiz created. id=191 quote='There is a price which is too great to pay for peace, and that price can be put in one word. One cannot pay the price of self-respect.' correct_answer='Woodrow Wilson' choices=['John Quincy Adams', 'Richard Nixon', 'Woodrow Wilson', 'Franklin Pierce']\n",
      "Quiz created. id=192 quote='If I am to speak ten minutes, I need a week for preparation; if fifteen minutes, three days; if half an hour, two days; if an hour, I am ready now.' correct_answer='Woodrow Wilson' choices=['Richard Nixon', 'Woodrow Wilson', 'Ronald Reagan', 'Ulysses S. Grant']\n",
      "Quiz created. id=193 quote='What is at at stake now is the peace of the world. What we are striving for is a new international order based upon broad and universal principles of right and justice, — no mere peace of shreds and patches.' correct_answer='Woodrow Wilson' choices=['Donald Trump', 'William McKinley', 'Harry S. Truman', 'Woodrow Wilson']\n",
      "Quiz created. id=194 quote='The seed of revolution is repression.' correct_answer='Woodrow Wilson' choices=['James Monroe', 'Woodrow Wilson', 'James Madison', 'Martin Van Buren']\n",
      "Quiz created. id=195 quote='I would … rather lose in a cause that I know some day will triumph than triumph in a cause that I know some day will lose.' correct_answer='Woodrow Wilson' choices=['Lyndon B. Johnson', 'John Quincy Adams', 'Woodrow Wilson', 'Millard Fillmore']\n",
      "Quiz created. id=196 quote=\"Business underlies everything in our national life, including our spiritual life. Witness the fact that in the Lord's Prayer, the first petition is for daily bread. No one can worship God or love his neighbor on an empty stomach.\" correct_answer='Woodrow Wilson' choices=['Joe Biden', 'Benjamin Harrison', 'James Buchanan', 'Woodrow Wilson']\n",
      "Quiz created. id=197 quote='We have stood apart, studiously neutral.' correct_answer='Woodrow Wilson' choices=['Ronald Reagan', 'John Adams', 'Woodrow Wilson', 'Martin Van Buren']\n",
      "Quiz created. id=198 quote='[W]e are not bound to adhere to the doctrine held by the signers of the Declaration of Independence.' correct_answer='Woodrow Wilson' choices=['John Quincy Adams', 'Theodore Roosevelt', 'Woodrow Wilson', 'Millard Fillmore']\n",
      "Quiz created. id=199 quote='Our most dangerous tendency is to expect too much of government, and at the same time do for it too little.' correct_answer='Warren G. Harding' choices=['Warren G. Harding', 'Richard Nixon', 'Ulysses S. Grant', 'William Henry Harrison']\n",
      "Quiz created. id=200 quote=\"I think it's an inspiration to patriotic devotion to safeguard America first, to stabilize America first, to prosper America first, to think of America first, to exalt America first, to live for and revere America first.\" correct_answer='Warren G. Harding' choices=['Calvin Coolidge', 'Warren G. Harding', 'Woodrow Wilson', 'Millard Fillmore']\n",
      "Quiz created. id=201 quote='I am not fit for this office and should never have been here.' correct_answer='Warren G. Harding' choices=['James A. Garfield', 'Warren G. Harding', 'Jimmy Carter', 'Franklin Pierce']\n",
      "Quiz created. id=202 quote='Congress ought to wipe the stain of barbaric lynching from the banners of a free and orderly representative democracy.' correct_answer='Warren G. Harding' choices=['Barack Obama', 'Warren G. Harding', 'Chester A. Arthur', 'John Tyler']\n",
      "Quiz created. id=203 quote='The success of our popular government rests wholly upon the correct interpretation of the deliberate, intelligent, dependable popular will of America.' correct_answer='Warren G. Harding' choices=['William McKinley', 'Warren G. Harding', 'Harry S. Truman', 'Bill Clinton']\n",
      "Quiz created. id=204 quote='\"It is good to meet and drink at the fountains of wisdom inherited from the founding fathers of the Republic.\"' correct_answer='Warren G. Harding' choices=['William Howard Taft', 'Warren G. Harding', 'Abraham Lincoln', 'Martin Van Buren']\n",
      "Quiz created. id=205 quote='In the great fulfillment we must have a citizenship less concerned about what the government can do for it and more anxious about what it can do for the nation.' correct_answer='Warren G. Harding' choices=['Andrew Johnson', 'Warren G. Harding', 'James Buchanan', 'Zachary Taylor']\n",
      "Quiz created. id=206 quote=\"I have no trouble with my enemies. I can take care of my enemies all right. But my damn friends, my god-damned friends, White, they're the ones who keep me walking the floor nights!\" correct_answer='Warren G. Harding' choices=['James Monroe', 'James A. Garfield', 'Warren G. Harding', 'Ronald Reagan']\n",
      "Quiz created. id=207 quote='The black man should seek to be, and he should be encouraged to be, the best possible black man and not the best possible imitation of a white man.' correct_answer='Warren G. Harding' choices=['Chester A. Arthur', 'Warren G. Harding', 'Franklin D. Roosevelt', 'Rutherford B. Hayes']\n",
      "Quiz created. id=208 quote='To be independent to my mind does not mean to be isolated, to be the priest or the Levite, but rather to be the good Samaritan. There is no real independence save only as we secure it through the law of service.' correct_answer='Calvin Coolidge' choices=['Joe Biden', 'Calvin Coolidge', 'Gerald R. Ford', 'Zachary Taylor']\n",
      "Quiz created. id=209 quote='Works which endure come from the soul of the people. The mighty in their pride walk alone to destruction. The humble walk hand in hand with providence to immortality. Their works survive.' correct_answer='Calvin Coolidge' choices=['William McKinley', 'Calvin Coolidge', 'James K. Polk', 'Dwight D. Eisenhower']\n",
      "Quiz created. id=210 quote='There are only two main theories of government in the world. One rests on righteousness, the other rests on force. One appeals to reason, the other appeals to the sword. One is exemplified in a republic, the other is represented by a despotism. …' correct_answer='Calvin Coolidge' choices=['Andrew Johnson', 'Calvin Coolidge', 'Theodore Roosevelt', 'George W. Bush']\n",
      "Quiz created. id=211 quote='I do not choose to run for President in 1928.' correct_answer='Calvin Coolidge' choices=['Joe Biden', 'Calvin Coolidge', 'Harry S. Truman', 'Herbert Hoover']\n",
      "Quiz created. id=212 quote='It is my belief that action under this section should be suspended until the Congress can reconsider the entire question in the light of the experience that has been developed since its enactment.' correct_answer='Calvin Coolidge' choices=['Joe Biden', 'Calvin Coolidge', 'John F. Kennedy', 'Dwight D. Eisenhower']\n",
      "Quiz created. id=213 quote='I think the American people want a solemn ass as a President and I think I will go along with them.' correct_answer='Calvin Coolidge' choices=['Joe Biden', 'Andrew Johnson', 'Calvin Coolidge', 'Thomas Jefferson']\n",
      "Quiz created. id=214 quote='What we need is not more Federal government, but better local government.' correct_answer='Calvin Coolidge' choices=['Lyndon B. Johnson', 'Calvin Coolidge', 'William McKinley', 'Bill Clinton']\n",
      "Quiz created. id=215 quote='There is no substitute for a militant freedom. The only alternative is submission and slavery.' correct_answer='Calvin Coolidge' choices=['Calvin Coolidge', 'Richard Nixon', 'Theodore Roosevelt', 'Warren G. Harding']\n",
      "Quiz created. id=216 quote='To live under the American Constitution is the greatest political privilege that was ever accorded to the human race.' correct_answer='Calvin Coolidge' choices=['James Monroe', 'Chester A. Arthur', 'Calvin Coolidge', 'Andrew Jackson']\n",
      "Quiz created. id=217 quote='You have demonstrated again and again that it is useless to appeal to you on any thing but patriotic motives. You are for America, you are for our Constitution, you will not be tempted to take any action that will imperil our society or our Government.' correct_answer='Calvin Coolidge' choices=['William McKinley', 'Calvin Coolidge', 'Harry S. Truman', 'Millard Fillmore']\n",
      "Quiz created. id=218 quote='Being a politician is a poor profession. Being a public servant is a noble one.' correct_answer='Herbert Hoover' choices=['Chester A. Arthur', 'John Quincy Adams', 'Herbert Hoover', 'Franklin Pierce']\n",
      "Quiz created. id=219 quote='I, with other Americans, have perhaps unduly resented the stream of criticism of American life... more particularly have I resented the sneers at Main Street. For I have known that in the cottages that lay behind the street rested the strength of our national character.' correct_answer='Herbert Hoover' choices=['Rutherford B. Hayes', 'Benjamin Harrison', 'Franklin D. Roosevelt', 'Herbert Hoover']\n",
      "Quiz created. id=220 quote='When there is a lack of honor in government, the morals of the whole people are poisoned.' correct_answer='Herbert Hoover' choices=['Joe Biden', 'James A. Garfield', 'James K. Polk', 'Herbert Hoover']\n",
      "Quiz created. id=221 quote='I’m the only person of distinction who’s ever had a depression named for him.' correct_answer='Herbert Hoover' choices=['Joe Biden', 'Thomas Jefferson', 'William Henry Harrison', 'Herbert Hoover']\n",
      "Quiz created. id=222 quote='Older men declare war. But it is youth that must fight and die. And it is youth who must inherit the tribulation, the sorrow and the triumphs that are the aftermath of war.' correct_answer='Herbert Hoover' choices=['Andrew Johnson', 'Benjamin Harrison', 'Gerald R. Ford', 'Herbert Hoover']\n",
      "Quiz created. id=223 quote='A good many things go around in the dark besides Santa Claus.' correct_answer='Herbert Hoover' choices=['Barack Obama', 'Zachary Taylor', 'Herbert Hoover', 'Franklin Pierce']\n",
      "Quiz created. id=224 quote='Wages have increased, the cost of living has decreased. The job of every man and woman has been made more secure. We have in this short period decreased the fear of poverty, the fear of unemployment, the fear of old age; and these fears that are the greatest calamities of human kind.' correct_answer='Herbert Hoover' choices=['Warren G. Harding', 'Richard Nixon', 'Woodrow Wilson', 'Herbert Hoover']\n",
      "Quiz created. id=225 quote='Prosperity cannot be restored by raids upon the public Treasury.' correct_answer='Herbert Hoover' choices=['George Washington', 'Abraham Lincoln', 'Herbert Hoover', 'Grover Cleveland']\n",
      "Quiz created. id=226 quote='The recognition of Russia on November 16, 1933, started forces which were to have considerable influence in the attempt to collectivize the United States.' correct_answer='Herbert Hoover' choices=['Warren G. Harding', 'Woodrow Wilson', 'Herbert Hoover', 'William Howard Taft']\n",
      "Quiz created. id=227 quote='As a nation we must prevent hunger and cold to those of our people who are in honest difficulties.' correct_answer='Herbert Hoover' choices=['Richard Nixon', 'Abraham Lincoln', 'Woodrow Wilson', 'Herbert Hoover']\n",
      "Quiz created. id=228 quote=\"We are committed to the proposition that principles of morality and considerations for our own security will never permit us to acquiesce in a peace dictated by aggressors and sponsored by appeasers. We know that enduring peace cannot be bought at the cost of other people's freedom.\" correct_answer='Franklin D. Roosevelt' choices=['Benjamin Harrison', 'Woodrow Wilson', 'Franklin D. Roosevelt', 'Martin Van Buren']\n",
      "Quiz created. id=229 quote='In the days and in the years that are to come we shall work for a just and honorable peace, a durable peace, as today we work and fight for total victory in war. We can and we will achieve such a peace.' correct_answer='Franklin D. Roosevelt' choices=['Calvin Coolidge', 'Abraham Lincoln', 'Franklin D. Roosevelt', 'William Howard Taft']\n",
      "Quiz created. id=230 quote='It seems to be unfortunately true that the epidemic of world lawlessness is spreading. When an epidemic of physical disease starts to spread, the community approves and joins in a quarantine of the patients in order to protect the health of the community against the spread of the disease.' correct_answer='Franklin D. Roosevelt' choices=['Joe Biden', 'Ronald Reagan', 'Franklin D. Roosevelt', 'Millard Fillmore']\n",
      "Quiz created. id=231 quote='We must especially beware of that small group of selfish men who would clip the wings of the American Eagle in order to feather their own nests.' correct_answer='Franklin D. Roosevelt' choices=['John Quincy Adams', 'Jimmy Carter', 'Franklin D. Roosevelt', 'Dwight D. Eisenhower']\n",
      "Quiz created. id=232 quote='An election cannot give a country a firm sense of direction if it has two or more national parties which merely have different names but are as alike in their principles and aims as peas in the same pod.' correct_answer='Franklin D. Roosevelt' choices=['Barack Obama', 'George Washington', 'Woodrow Wilson', 'Franklin D. Roosevelt']\n",
      "Quiz created. id=233 quote=\"A self-supporting and self-respecting democracy can plead no justification for the existence of child labor, no economic reason for chiseling workers' wages or stretching workers' hours.\" correct_answer='Franklin D. Roosevelt' choices=['James Monroe', 'Harry S. Truman', 'Theodore Roosevelt', 'Franklin D. Roosevelt']\n",
      "Quiz created. id=234 quote='I ask that the Congress declare that since the unprovoked and dastardly attack by Japan on Sunday, December 7, 1941, a state of war has existed between the United States and the Japanese Empire' correct_answer='Franklin D. Roosevelt' choices=['Andrew Jackson', 'Franklin D. Roosevelt', 'Rutherford B. Hayes', 'John Tyler']\n",
      "Quiz created. id=235 quote='In this world, is the destiny of mankind controlled by some transcendental entity or law? Is it like the hand of God hovering above? At least it is true that man has no control; even over his own will.' correct_answer='Franklin D. Roosevelt' choices=['Lyndon B. Johnson', 'John Quincy Adams', 'Franklin D. Roosevelt', 'Herbert Hoover']\n",
      "Quiz created. id=236 quote='It seems to me that the dedication of a library is in itself an act of faith.' correct_answer='Franklin D. Roosevelt' choices=['Calvin Coolidge', 'Benjamin Harrison', 'Franklin D. Roosevelt', 'Richard Nixon']\n",
      "Quiz created. id=237 quote='We have always known that heedless self-interest was bad morals; we know now that it is bad economics.' correct_answer='Franklin D. Roosevelt' choices=['William McKinley', 'Martin Van Buren', 'Franklin D. Roosevelt', 'Dwight D. Eisenhower']\n",
      "Quiz created. id=238 quote='It is an awful responsibility which has come to us.  We thank God that it has come to us, instead of to our enemies; and we pray that He may guide us to use it in His ways and for His purposes.' correct_answer='Harry S. Truman' choices=['Calvin Coolidge', 'Harry S. Truman', 'John Quincy Adams', 'Andrew Jackson']\n",
      "Quiz created. id=239 quote='What do you mean \"helped create\"? I am Cyrus. I am Cyrus.' correct_answer='Harry S. Truman' choices=['George Washington', 'Harry S. Truman', 'Woodrow Wilson', 'Millard Fillmore']\n",
      "Quiz created. id=240 quote='I don\\'t give a damn about \"The Missouri Waltz\" but I can\\'t say it out loud because it\\'s the song of Missouri. It\\'s as bad as \"The Star-Spangled Banner\" so far as music is concerned.' correct_answer='Harry S. Truman' choices=['James A. Garfield', 'Harry S. Truman', 'Franklin D. Roosevelt', 'James K. Polk']\n",
      "Quiz created. id=241 quote=\"There shall be created in the National Military Establishment an advisory committee to be known as the President's Committee on Equality of Treatment and Opportunity in the Armed Services, which shall be composed of seven members to be designated by the President.\" correct_answer='Harry S. Truman' choices=['William McKinley', 'Harry S. Truman', 'Richard Nixon', 'Woodrow Wilson']\n",
      "Quiz created. id=242 quote=\"You know, the United States Government turns its Chief Executive out to grass. They're just allowed to starve . . . If I hadn't inherited some property that finally paid things through, I'd be on relief now.\" correct_answer='Harry S. Truman' choices=['Harry S. Truman', 'Millard Fillmore', 'John Quincy Adams', 'Martin Van Buren']\n",
      "Quiz created. id=243 quote='The Committee shall continue to exist until such time as the President shall terminate its existence by Executive order.' correct_answer='Harry S. Truman' choices=['Barack Obama', 'Harry S. Truman', 'John F. Kennedy', 'Millard Fillmore']\n",
      "Quiz created. id=244 quote=\"I was the only calm one in the house. You see I've been shot at by experts.\" correct_answer='Harry S. Truman' choices=['Calvin Coolidge', 'Harry S. Truman', 'Herbert Hoover', 'John Tyler']\n",
      "Quiz created. id=245 quote='We are in a troublesome period, and some \"nonsense\" as you term it — but this is a great nation with a high purpose, and we shall come to our senses and resume our course.' correct_answer='Harry S. Truman' choices=['Harry S. Truman', 'Jimmy Carter', 'Ronald Reagan', 'William Henry Harrison']\n",
      "Quiz created. id=246 quote=\"One of the difficulties with all our institutions is the fact that we've emphasized the reward instead of the service.\" correct_answer='Harry S. Truman' choices=['Harry S. Truman', 'John F. Kennedy', 'Jimmy Carter', 'Rutherford B. Hayes']\n",
      "Quiz created. id=247 quote=\"I never gave anybody hell. I just told the truth and they think it's hell.\" correct_answer='Harry S. Truman' choices=['Harry S. Truman', 'James K. Polk', 'John Quincy Adams', 'Martin Van Buren']\n",
      "Quiz created. id=248 quote=\"No people on earth can be held, as a people, to be an enemy, for all humanity shares the common hunger for peace and fellowship and justice. ... No nation's security and well-being can be lastingly achieved in isolation but only in effective cooperation with fellow-nations.\" correct_answer='Dwight D. Eisenhower' choices=['Bill Clinton', 'Harry S. Truman', 'Ulysses S. Grant', 'Dwight D. Eisenhower']\n",
      "Quiz created. id=249 quote='We –finally—look upon change, the every-unfolding future, with confidence rather than doubt, hope rather than fear. We, as a people, were born of revolution. And we have lived by change—always a frontier people, exploring—if not new wilderness—then new science and new knowledge.' correct_answer='Dwight D. Eisenhower' choices=['Herbert Hoover', 'Richard Nixon', 'Dwight D. Eisenhower', 'James Madison']\n",
      "Quiz created. id=250 quote='All the historic precedents, the soaring graphs, the staggering statistics—these measure size more than substance. And the largeness and greatness of our nation would be almost a mockery—without a matching greatness of heart and largeness of vision as we look out upon the world.' correct_answer='Dwight D. Eisenhower' choices=['Chester A. Arthur', 'Benjamin Harrison', 'Dwight D. Eisenhower', 'Richard Nixon']\n",
      "Quiz created. id=251 quote='It is the firm duty of each of our free citizens and of every free citizen everywhere to place the cause of his country before the comfort, the convenience of himself.' correct_answer='Dwight D. Eisenhower' choices=['Lyndon B. Johnson', 'John Quincy Adams', 'Dwight D. Eisenhower', 'Rutherford B. Hayes']\n",
      "Quiz created. id=252 quote='Freedom under law is like the air we breathe.' correct_answer='Dwight D. Eisenhower' choices=['James Monroe', 'Bill Clinton', 'Dwight D. Eisenhower', 'Herbert Hoover']\n",
      "Quiz created. id=253 quote='Neither a wise man or a brave man lies down on the tracks of history to wait for the train of the future to run over him.' correct_answer='Dwight D. Eisenhower' choices=['Lyndon B. Johnson', 'Dwight D. Eisenhower', 'John Tyler', 'James A. Garfield']\n",
      "Quiz created. id=254 quote='In such a world—at such a time---\"a decent respect for the opinion of mankind\"—in the words of our Declaration of Independence—requires that we state plainly the purposes we seek, the principles we hold.' correct_answer='Dwight D. Eisenhower' choices=['George H. W. Bush', 'Donald Trump', 'Woodrow Wilson', 'Dwight D. Eisenhower']\n",
      "Quiz created. id=255 quote='Change based on principle is progress. Constant change without principle becomes chaos.' correct_answer='Dwight D. Eisenhower' choices=['Harry S. Truman', 'Theodore Roosevelt', 'Dwight D. Eisenhower', 'Andrew Jackson']\n",
      "Quiz created. id=256 quote=\"A nation's hope of lasting peace cannot be firmly based upon any race in armaments but rather upon just relations and honest understanding with all other nations.\" correct_answer='Dwight D. Eisenhower' choices=['Donald Trump', 'Franklin D. Roosevelt', 'Gerald R. Ford', 'Dwight D. Eisenhower']\n",
      "Quiz created. id=257 quote='To blend, without coercion, the individual good and the common good is the essence of citizenship in a free country.' correct_answer='Dwight D. Eisenhower' choices=['William McKinley', 'Thomas Jefferson', 'Dwight D. Eisenhower', 'William Howard Taft']\n",
      "Quiz created. id=258 quote='The time to repair the roof is when the sun is shining — by filling three basic gaps in our anti-recession protection.' correct_answer='John F. Kennedy' choices=['Calvin Coolidge', 'John Quincy Adams', 'John F. Kennedy', 'Abraham Lincoln']\n",
      "Quiz created. id=259 quote='Only the very courageous will be able to keep alive the spirit of individualism and dissent which gave birth to this nation, nourished it as an infant, and carried it through its severest tests upon the attainment of its maturity.' correct_answer='John F. Kennedy' choices=['George H. W. Bush', 'Benjamin Harrison', 'John F. Kennedy', 'Jimmy Carter']\n",
      "Quiz created. id=260 quote='The deadly arms race, and the huge resources it absorbs, have too long overshadowed all else we must do. We must prevent that arms race from spreading to new nations, to new nuclear powers and to the reaches of outer space.' correct_answer='John F. Kennedy' choices=['Andrew Johnson', 'John F. Kennedy', 'Ronald Reagan', 'Grover Cleveland']\n",
      "Quiz created. id=261 quote='Chronic disputes which divert precious resources from the needs of the people or drain the energies of both sides serve the interests of no one — and the badge of responsibility in the modern world is a willingness to seek peaceful solutions.' correct_answer='John F. Kennedy' choices=['John F. Kennedy', 'Abraham Lincoln', 'Dwight D. Eisenhower', 'James Madison']\n",
      "Quiz created. id=262 quote='Somebody once said that Washington was a city of Northern charm and Southern efficiency.' correct_answer='John F. Kennedy' choices=['Gerald R. Ford', 'Andrew Johnson', 'John F. Kennedy', 'Theodore Roosevelt']\n",
      "Quiz created. id=263 quote='For a city or a people to be truly free they must have the secure right, without economic, political or police pressure, to make their own choice and to live their own lives.' correct_answer='John F. Kennedy' choices=['John Quincy Adams', 'John F. Kennedy', 'Ronald Reagan', 'James Madison']\n",
      "Quiz created. id=264 quote='The Federal Budget can and should be made an instrument of prosperity and stability, not a deterrent to recovery.' correct_answer='John F. Kennedy' choices=['George Washington', 'John F. Kennedy', 'Bill Clinton', 'John Quincy Adams']\n",
      "Quiz created. id=265 quote='I have said that control of arms is a mission that we undertake particularly for our children and our grandchildren and that they have no lobby in Washington.' correct_answer='John F. Kennedy' choices=['James Buchanan', 'John F. Kennedy', 'Woodrow Wilson', 'James Madison']\n",
      "Quiz created. id=266 quote=\"If all of you had voted the other way — there's about 5500 of you here tonight — I would not be the President of the United States.\" correct_answer='John F. Kennedy' choices=['James Buchanan', 'John F. Kennedy', 'Millard Fillmore', 'James K. Polk']\n",
      "Quiz created. id=267 quote='And as Americans know from our history on our own old frontier, gun battles are caused by outlaws, and not by officers of the peace.' correct_answer='John F. Kennedy' choices=['Joe Biden', 'John F. Kennedy', 'Abraham Lincoln', 'Franklin Pierce']\n",
      "Quiz created. id=268 quote='In the Civil Rights Act of 1965, we affirmed through law for every citizen in this land the most basic right of democracy—the right of a citizen to vote in an election in his country. In the five States where the Act had its greater impact, Negro voter registration has already more than doubled.' correct_answer='Lyndon B. Johnson' choices=['Lyndon B. Johnson', 'Harry S. Truman', 'Richard Nixon', 'Chester A. Arthur']\n",
      "Quiz created. id=269 quote='We are one nation and one people. Our fate as a nation and our future as a people rest not upon one citizen, but upon all citizens. This is the majesty and the meaning of this moment.' correct_answer='Lyndon B. Johnson' choices=['Lyndon B. Johnson', 'Ronald Reagan', 'Rutherford B. Hayes', 'William Howard Taft']\n",
      "Quiz created. id=270 quote='A people divided over the right to vote can never build a Nation united.' correct_answer='Lyndon B. Johnson' choices=['Lyndon B. Johnson', 'Harry S. Truman', 'James Buchanan', 'James Madison']\n",
      "Quiz created. id=271 quote='I have always believed that freedom of information is so vital that only the national security, not the desire of public officials or private citizens, should determine when it must be restricted.' correct_answer='Lyndon B. Johnson' choices=['George H. W. Bush', 'Lyndon B. Johnson', 'John Quincy Adams', 'Gerald R. Ford']\n",
      "Quiz created. id=272 quote='If you do this, then you will find, as others have found before you, that the vote is the most powerful instrument ever devised by man for breaking down injustice and destroying the terrible walls which imprison men because they are different from other men.' correct_answer='Lyndon B. Johnson' choices=['Gerald R. Ford', 'Lyndon B. Johnson', 'Benjamin Harrison', 'John Tyler']\n",
      "Quiz created. id=273 quote=\"I signed this measure with a deep sense of pride that the United States is an open society in which the people's right to know is cherished and guarded.\" correct_answer='Lyndon B. Johnson' choices=['Lyndon B. Johnson', 'Martin Van Buren', 'James K. Polk', 'James A. Garfield']\n",
      "Quiz created. id=274 quote='There is no Negro problem. There is no Southern problem. There is no Northern problem. There is only an American problem. And we are met here tonight as Americans\\xa0— not as Democrats or Republicans-we are met here as Americans to solve that problem.' correct_answer='Lyndon B. Johnson' choices=['Lyndon B. Johnson', 'George Washington', 'Theodore Roosevelt', 'Ronald Reagan']\n",
      "Quiz created. id=275 quote='In the Civil Rights Act of 1964, we affirmed through law that men equal under God are also equal when they seek a job, when they go to get a meal in a restaurant, or when they seek lodging for the night in any State in the Union.' correct_answer='Lyndon B. Johnson' choices=['Lyndon B. Johnson', 'Richard Nixon', 'Herbert Hoover', 'William Howard Taft']\n",
      "Quiz created. id=276 quote='In Selma as elsewhere we seek and pray for peace. We seek order. We seek unity. But we will not accept the peace of stifled rights, or the order imposed by fear, or the unity that stifles protest. For peace cannot be purchased at the cost of liberty.' correct_answer='Lyndon B. Johnson' choices=['Lyndon B. Johnson', 'George Washington', 'James Buchanan', 'Thomas Jefferson']\n",
      "Quiz created. id=277 quote=\"Make no mistake about it. I don't want a man in here to go back home thinking otherwise; we are going to win.\" correct_answer='Lyndon B. Johnson' choices=['Lyndon B. Johnson', 'George Washington', 'Jimmy Carter', 'George W. Bush']\n",
      "Quiz created. id=278 quote='Riots were also the most virulent symptoms to date of another, and in some ways graver, national disorder — the decline in respect for public authority and the rule of law in America. Far from being a great society, our is becoming a lawless society.' correct_answer='Richard Nixon' choices=['James Monroe', 'Richard Nixon', 'Bill Clinton', 'William Howard Taft']\n",
      "Quiz created. id=279 quote='If you think the United States has stood still, who built the largest shopping center in the world, the Lloyd Shopping Center right here?' correct_answer='Richard Nixon' choices=['Richard Nixon', 'Theodore Roosevelt', 'James Buchanan', 'Franklin Pierce']\n",
      "Quiz created. id=280 quote='I am now a Keynesian in economics.' correct_answer='Richard Nixon' choices=['Richard Nixon', 'Thomas Jefferson', 'James K. Polk', 'Jimmy Carter']\n",
      "Quiz created. id=281 quote='Now, when individuals read the entire transcript of the [March] 21st [1973] meeting, or hear the entire tape, where we discussed all these options, they may reach different interpretations, but I know what I meant, and I know also what I did.' correct_answer='Richard Nixon' choices=['Joe Biden', 'Donald Trump', 'Richard Nixon', 'James K. Polk']\n",
      "Quiz created. id=282 quote='North Vietnam cannot defeat or humiliate the United States. Only Americans can do that.' correct_answer='Richard Nixon' choices=['Richard Nixon', 'Franklin D. Roosevelt', 'James Madison', 'George W. Bush']\n",
      "Quiz created. id=283 quote=\"Isn't it better to talk about the relative merits of washing machines than the relative strength of rockets? Isn't this the kind of competition you want?\" correct_answer='Richard Nixon' choices=['Herbert Hoover', 'Richard Nixon', 'Jimmy Carter', 'William Henry Harrison']\n",
      "Quiz created. id=284 quote='We are faced this year with the choice between the \"work ethic\" that built this Nation\\'s character and the new \"welfare ethic\" that could cause that American character to weaken.' correct_answer='Richard Nixon' choices=['William McKinley', 'Warren G. Harding', 'Richard Nixon', 'Franklin Pierce']\n",
      "Quiz created. id=285 quote='My point is that Boy Scout leaders, YMCA leaders, and others bring them in that direction, and teachers. And if you look over the history of societies, you will find, of course, that some of the highly intelligent people.' correct_answer='Richard Nixon' choices=['Chester A. Arthur', 'John Quincy Adams', 'Richard Nixon', 'James Madison']\n",
      "Quiz created. id=286 quote=\"I can't ever say that, but I believe it.\" correct_answer='Richard Nixon' choices=['Joe Biden', 'Richard Nixon', 'Theodore Roosevelt', 'John Tyler']\n",
      "Quiz created. id=287 quote=\"But by God, there are exceptions. But Bob, generally speaking, you can't trust the bastards. They turn on us.\" correct_answer='Richard Nixon' choices=['Donald Trump', 'James A. Garfield', 'Richard Nixon', 'Chester A. Arthur']\n",
      "Quiz created. id=288 quote='By the President of the United States of America, a Proclamation' correct_answer='Gerald R. Ford' choices=['James Monroe', 'Andrew Jackson', 'Gerald R. Ford', 'Franklin D. Roosevelt']\n",
      "Quiz created. id=289 quote=\"Obviously, it's a great privilege and pleasure to be here at the Yale Law School Sesquicentennial Convocation. And I defy anyone to say that and chew gum at the same time.\" correct_answer='Gerald R. Ford' choices=['James A. Garfield', 'William Howard Taft', 'Gerald R. Ford', 'Martin Van Buren']\n",
      "Quiz created. id=290 quote='I call upon the American people to affirm with me the unhyphenated American promise that we have learned from the tragedy of that long ago experience -- forever to treasure liberty and justice for each individual American and resolve that this kind of error shall never be made again.' correct_answer='Gerald R. Ford' choices=['Harry S. Truman', 'Gerald R. Ford', 'Benjamin Harrison', 'Franklin Pierce']\n",
      "Quiz created. id=291 quote=\"He's the smartest guy in Congress, but he insists on voting his conscience instead of party.\" correct_answer='Gerald R. Ford' choices=['Lyndon B. Johnson', 'Gerald R. Ford', 'Millard Fillmore', 'John F. Kennedy']\n",
      "Quiz created. id=292 quote='The three-martini lunch is the epitome of American efficiency. Where else can you get an earful, a bellyful and a snootful at the same time?' correct_answer='Gerald R. Ford' choices=['Joe Biden', 'Andrew Jackson', 'Gerald R. Ford', 'Martin Van Buren']\n",
      "Quiz created. id=293 quote='It is only as the temporary representatives and servants of the people that we meet here, we bring no hereditary status or gift of infallibility, and none follows us from this place.' correct_answer='Gerald R. Ford' choices=['George Washington', 'Gerald R. Ford', 'Rutherford B. Hayes', 'John Tyler']\n",
      "Quiz created. id=294 quote='Tell the truth, work hard, and come to dinner on time.' correct_answer='Gerald R. Ford' choices=['George H. W. Bush', 'Benjamin Harrison', 'Gerald R. Ford', 'John F. Kennedy']\n",
      "Quiz created. id=295 quote='(Gail A. Cobb) has our lasting admiration for the cause of law enforcement and the well-being of our society, a cause for which she made the highest sacrifice.' correct_answer='Gerald R. Ford' choices=['Gerald R. Ford', 'Thomas Jefferson', 'John Adams', 'Millard Fillmore']\n",
      "Quiz created. id=296 quote='All my children have spoken for themselves since they first learned to speak, and not always with my advance approval, and I expect that to continue in the future.' correct_answer='Gerald R. Ford' choices=['Gerald R. Ford', 'Jimmy Carter', 'Bill Clinton', 'James Madison']\n",
      "Quiz created. id=297 quote='Mr. Speaker, Mr. Vice President, Members of the 94th Congress, and distinguished guests:' correct_answer='Gerald R. Ford' choices=['Gerald R. Ford', 'Abraham Lincoln', 'James Madison', 'Franklin Pierce']\n",
      "Quiz created. id=298 quote='It is apparent that prisoners of war are among the most vulnerable of people. Not only are they completely under the control of their captors, but in a time of conflict, the hatred and brutality of the battlefield are very likely to be mirrored within military prison walls.' correct_answer='Jimmy Carter' choices=['Donald Trump', 'William McKinley', 'Benjamin Harrison', 'Jimmy Carter']\n",
      "Quiz created. id=299 quote=\"The destruction was mutual. We went to Vietnam without any desire to capture territory or impose American will on other people. I don't feel that we ought to apologize or castigate ourselves or to assume the status of culpability.\" correct_answer='Jimmy Carter' choices=['Jimmy Carter', 'Dwight D. Eisenhower', 'George W. Bush', 'Grover Cleveland']\n",
      "Quiz created. id=300 quote='With massive arsenals still on hair-trigger alert, a global holocaust is just as possible now, through mistakes or misjudgments, as it was during the depths of the Cold War.' correct_answer='Jimmy Carter' choices=['Calvin Coolidge', 'Jimmy Carter', 'Ulysses S. Grant', 'William Henry Harrison']\n",
      "Quiz created. id=301 quote='We are completely in bed with the Israelis to the detriment of the wellbeing of the Palestinians.' correct_answer='Jimmy Carter' choices=['Jimmy Carter', 'Abraham Lincoln', 'William Henry Harrison', 'Franklin Pierce']\n",
      "Quiz created. id=302 quote='The bond of our common humanity is stronger than the divisiveness of our fears and prejudices. God gives us the capacity for choice. We can choose to alleviate suffering. We can choose to work together for peace. We can make these changes — and we must.' correct_answer='Jimmy Carter' choices=['Donald Trump', 'Andrew Jackson', 'Jimmy Carter', 'William Howard Taft']\n",
      "Quiz created. id=303 quote='History teaches, perhaps, very few clear lessons. But surely one such lesson learned by the world at great cost is that aggression, unopposed, becomes a contagious disease.' correct_answer='Jimmy Carter' choices=['Andrew Jackson', 'Jimmy Carter', 'James K. Polk', 'Herbert Hoover']\n",
      "Quiz created. id=304 quote='For instance, I have never believed that Jesus Christ would approve either abortions or the death penalty, but I obeyed such Supreme Court decisions to the best of my ability, at the same time attempting to minimize what I considered to be their adverse impact.' correct_answer='Jimmy Carter' choices=['Benjamin Harrison', 'Jimmy Carter', 'Richard Nixon', 'John Tyler']\n",
      "Quiz created. id=305 quote='It would be a fruitless search to look through the Scriptures and find one single instance where Jesus did not treat women either equal or superior to men.' correct_answer='Jimmy Carter' choices=['Gerald R. Ford', 'Jimmy Carter', 'Theodore Roosevelt', 'James Madison']\n",
      "Quiz created. id=306 quote=\"My name is Jimmy Carter, and I'm not running for president.\" correct_answer='Jimmy Carter' choices=['James A. Garfield', 'Jimmy Carter', 'Theodore Roosevelt', 'John Adams']\n",
      "Quiz created. id=307 quote='The reason for raising this is that the Israeli position in the past was that they would withdraw from the West Bank, and I believe that Prime Minister Begin left the Cabinet over this issue.' correct_answer='Jimmy Carter' choices=['Andrew Johnson', 'Jimmy Carter', 'Rutherford B. Hayes', 'James A. Garfield']\n",
      "Quiz created. id=308 quote='Regrettably, we live at a time when some persons do not value all human life. They want to pick and choose which individuals have value.' correct_answer='Ronald Reagan' choices=['Woodrow Wilson', 'Ronald Reagan', 'George W. Bush', 'John Tyler']\n",
      "Quiz created. id=309 quote='I never knew anything above Cs.' correct_answer='Ronald Reagan' choices=['Joe Biden', 'Calvin Coolidge', 'Zachary Taylor', 'Ronald Reagan']\n",
      "Quiz created. id=310 quote='We will never recognize the true value of our own lives until we affirm the value in the life of others.' correct_answer='Ronald Reagan' choices=['Donald Trump', 'John Quincy Adams', 'Ronald Reagan', 'Millard Fillmore']\n",
      "Quiz created. id=311 quote='Government exists to protect us from each other. Where government has gone beyond its limits is in deciding to protect us from ourselves.' correct_answer='Ronald Reagan' choices=['Theodore Roosevelt', 'Ronald Reagan', 'Millard Fillmore', 'Grover Cleveland']\n",
      "Quiz created. id=312 quote='If the big spenders get their way, they\\'ll charge everything on your \"Taxpayers Express Card.\" And believe me, they never leave home without it.' correct_answer='Ronald Reagan' choices=['Franklin D. Roosevelt', 'John Adams', 'Ronald Reagan', 'Herbert Hoover']\n",
      "Quiz created. id=313 quote=\"The trouble with our liberal friends is not that they are ignorant, but that they know so much that isn't so.\" correct_answer='Ronald Reagan' choices=['Warren G. Harding', 'Abraham Lincoln', 'Ronald Reagan', 'Martin Van Buren']\n",
      "Quiz created. id=314 quote=\"The decision by the seven-man majority in Roe v. Wade has so far been made to stick. But the Court's decision has by no means settled the debate. Instead, Roe v. Wade has become a continuing prod to the conscience of the nation.\" correct_answer='Ronald Reagan' choices=['Andrew Jackson', 'John Adams', 'Ronald Reagan', 'Franklin D. Roosevelt']\n",
      "Quiz created. id=315 quote=\"Government's first duty is to protect the people, not run their lives.\" correct_answer='Ronald Reagan' choices=['Woodrow Wilson', 'Abraham Lincoln', 'Ronald Reagan', 'William Henry Harrison']\n",
      "Quiz created. id=316 quote='No Republican, no matter how liberal, is going to woo a Democratic vote; but a Republican bucking the giveaway trend might re-create some voters who have been staying home.' correct_answer='Ronald Reagan' choices=['Andrew Johnson', 'Herbert Hoover', 'Ronald Reagan', 'Rutherford B. Hayes']\n",
      "Quiz created. id=317 quote=\"If a tax hike makes it to my desk, I'll veto it in less time than it takes Vanna White to turn the letters V-E-T-O!\" correct_answer='Ronald Reagan' choices=['William McKinley', 'Zachary Taylor', 'Ronald Reagan', 'Theodore Roosevelt']\n",
      "Quiz created. id=318 quote='The American people await action. They didn\\'t send us here to bicker. They ask us to rise above the merely partisan. \"In crucial things, unity\" — and this, my friends, is crucial.' correct_answer='George H. W. Bush' choices=['George H. W. Bush', 'Donald Trump', 'James Monroe', 'Franklin D. Roosevelt']\n",
      "Quiz created. id=319 quote='For we are given power not to advance our own purposes, nor to make a great show in the world, nor a name. There is but one just use of power, and it is to serve people. Help us to remember it, Lord.' correct_answer='George H. W. Bush' choices=['George H. W. Bush', 'George Washington', 'John F. Kennedy', 'Thomas Jefferson']\n",
      "Quiz created. id=320 quote=\"There is nothing more fulfilling than to serve your country and your fellow citizens and to do it well. And that's what our system of self-government depends on.\" correct_answer='George H. W. Bush' choices=['George H. W. Bush', 'Donald Trump', 'Bill Clinton', 'John Tyler']\n",
      "Quiz created. id=321 quote=\"Even though I'm a tranquil guy now at this stage of my life, I have nothing but contempt and anger for those who betray the trust by exposing the identity of our sources. They are, in my view, the most insidious of traitors.\" correct_answer='George H. W. Bush' choices=['George H. W. Bush', 'Richard Nixon', 'Dwight D. Eisenhower', 'Herbert Hoover']\n",
      "Quiz created. id=322 quote=\"You don't have to go to college to be a success … We need the people who run the offices, the people who do the hard physical work of our society.\" correct_answer='George H. W. Bush' choices=['George H. W. Bush', 'Benjamin Harrison', 'James Madison', 'George W. Bush']\n",
      "Quiz created. id=323 quote='Think about every problem, every challenge, we face. The solution to each starts with education.' correct_answer='George H. W. Bush' choices=['George H. W. Bush', 'Ronald Reagan', 'James K. Polk', 'William Howard Taft']\n",
      "Quiz created. id=324 quote=\"Some people who are enjoying our prosperity have forgotten what it's for. But they diminish our triumph when they act as if wealth is an end in itself.\" correct_answer='George H. W. Bush' choices=['George H. W. Bush', 'Woodrow Wilson', 'John Adams', 'John Tyler']\n",
      "Quiz created. id=325 quote='The Senate opens its meetings with a prayer. The House of Representatives opens its meetings with a prayer. Nobody doubts that they both need it.' correct_answer='George H. W. Bush' choices=['George H. W. Bush', 'Chester A. Arthur', 'Benjamin Harrison', 'Zachary Taylor']\n",
      "Quiz created. id=326 quote='My dog Millie knows more about foreign affairs than these two bozos.' correct_answer='George H. W. Bush' choices=['George H. W. Bush', 'Herbert Hoover', 'Thomas Jefferson', 'William Henry Harrison']\n",
      "Quiz created. id=327 quote=\"And let all Americans remember that no problem of human making is too great to be overcome by human ingenuity, human energy, and the untiring hope of the human spirit. I believe this. I would not have asked to be your President if I didn't.\" correct_answer='George H. W. Bush' choices=['George H. W. Bush', 'Andrew Johnson', 'Joe Biden', 'Chester A. Arthur']\n",
      "Quiz created. id=328 quote='Yesterday is yesterday. If we try to recapture it, we will only lose tomorrow.' correct_answer='Bill Clinton' choices=['John F. Kennedy', 'Thomas Jefferson', 'Bill Clinton', 'John Adams']\n",
      "Quiz created. id=329 quote=\"The last time I checked, the Constitution said, 'of the people, by the people and for the people.' That's what the Declaration of Independence says.\" correct_answer='Bill Clinton' choices=['Franklin Pierce', 'Woodrow Wilson', 'Bill Clinton', 'Grover Cleveland']\n",
      "Quiz created. id=330 quote=\"Jesse Jackson won South Carolina in '84 and '88. Jackson ran a good campaign. And Obama ran a good campaign here.\" correct_answer='Bill Clinton' choices=['Gerald R. Ford', 'Thomas Jefferson', 'Bill Clinton', 'Franklin Pierce']\n",
      "Quiz created. id=331 quote=\"When I was in England I experimented with marijuana a time or two -- and didn't like it -- and didn't inhale and never tried inhaling again.\" correct_answer='Bill Clinton' choices=['Joe Biden', 'Franklin D. Roosevelt', 'Bill Clinton', 'William Howard Taft']\n",
      "Quiz created. id=332 quote=\"I have met all the most gifted people in our generation and you're the best.\" correct_answer='Bill Clinton' choices=['Joe Biden', 'Warren G. Harding', 'Ronald Reagan', 'Bill Clinton']\n",
      "Quiz created. id=333 quote='Shalom, haver.' correct_answer='Bill Clinton' choices=['Jimmy Carter', 'Bill Clinton', 'James Buchanan', 'Grover Cleveland']\n",
      "Quiz created. id=334 quote=\"What are the needs of the world?  What can I do that won't be done if I don't do it?\" correct_answer='Bill Clinton' choices=['Martin Van Buren', 'Thomas Jefferson', 'Bill Clinton', 'Grover Cleveland']\n",
      "Quiz created. id=335 quote='In the years ahead, I will never hold a position higher or a covenant more sacred than that of President of the United States. But there is no title I will wear more proudly than that of citizen.' correct_answer='Bill Clinton' choices=['James A. Garfield', 'William McKinley', 'Bill Clinton', 'Franklin Pierce']\n",
      "Quiz created. id=336 quote=\"It's a great thing about not being office—you can just say whatever you want.\" correct_answer='Bill Clinton' choices=['Warren G. Harding', 'Ulysses S. Grant', 'Zachary Taylor', 'Bill Clinton']\n",
      "Quiz created. id=337 quote='Our democracy must be not only the envy of the world but the engine of our own renewal. There is nothing wrong with America that cannot be cured by what is right with America.' correct_answer='Bill Clinton' choices=['Woodrow Wilson', 'Bill Clinton', 'James Madison', 'Martin Van Buren']\n",
      "Quiz created. id=338 quote='Our war on terror begins with al-Qaeda, but it does not end there. It will not end until every terrorist group of global reach has been found, stopped and defeated.' correct_answer='George W. Bush' choices=['Joe Biden', 'Andrew Johnson', 'James K. Polk', 'George W. Bush']\n",
      "Quiz created. id=339 quote='The situation in Iraq is unacceptable to the American people; and it is unacceptable to me. Our troops in Iraq have fought bravely. They have done everything we have asked them to do. Where mistakes have been made, the responsibility rests with me.' correct_answer='George W. Bush' choices=['Donald Trump', 'Theodore Roosevelt', 'William Henry Harrison', 'George W. Bush']\n",
      "Quiz created. id=340 quote='This is, above all, the age of liberty.' correct_answer='George W. Bush' choices=['Richard Nixon', 'Thomas Jefferson', 'Dwight D. Eisenhower', 'George W. Bush']\n",
      "Quiz created. id=341 quote='If the terriers and barriffs [sic] are torn down, this economy will grow.' correct_answer='George W. Bush' choices=['John Adams', 'Ronald Reagan', 'George W. Bush', 'William Howard Taft']\n",
      "Quiz created. id=342 quote='Well, actually, he forgot Poland.' correct_answer='George W. Bush' choices=['Barack Obama', 'Gerald R. Ford', 'Woodrow Wilson', 'George W. Bush']\n",
      "Quiz created. id=343 quote='I love freedom of speech.' correct_answer='George W. Bush' choices=['Rutherford B. Hayes', 'Richard Nixon', 'Bill Clinton', 'George W. Bush']\n",
      "Quiz created. id=344 quote='Any government that chooses to be an ally of terror has also chosen to be an enemy of civilization.' correct_answer='George W. Bush' choices=['Benjamin Harrison', 'William Henry Harrison', 'George W. Bush', 'Martin Van Buren']\n",
      "Quiz created. id=345 quote='As hope kindles hope, millions more will find it. By our efforts, we have lit a fire as well — a fire in the minds of men. It warms those who feel its power, it burns those who fight its progress, and one day this untamed fire of freedom will reach the darkest corners of our world.' correct_answer='George W. Bush' choices=['Joe Biden', 'Chester A. Arthur', 'Thomas Jefferson', 'George W. Bush']\n",
      "Quiz created. id=346 quote='You have lifted a shadow of fear for many families. God bless you and may God bless the victims.' correct_answer='George W. Bush' choices=['Andrew Johnson', 'Chester A. Arthur', 'Bill Clinton', 'George W. Bush']\n",
      "Quiz created. id=347 quote='You know, I think an interesting construct that General [Peter] Pace uses is, \"We\\'re not winning, we\\'re not losing.\"' correct_answer='George W. Bush' choices=['James A. Garfield', 'Herbert Hoover', 'Jimmy Carter', 'George W. Bush']\n",
      "Quiz created. id=348 quote='Are we a nation that kicks out a striving, hopeful immigrant like Astrid, or are we a nation that finds a way to welcome her in? Scripture tells us that we shall not oppress a stranger, for we know the heart of a stranger –- we were strangers once, too.' correct_answer='Barack Obama' choices=['Andrew Johnson', 'Barack Obama', 'Ronald Reagan', 'Dwight D. Eisenhower']\n",
      "Quiz created. id=349 quote='The end of the Republic has never looked better.' correct_answer='Barack Obama' choices=['Barack Obama', 'Dwight D. Eisenhower', 'Chester A. Arthur', 'Martin Van Buren']\n",
      "Quiz created. id=350 quote=\"I'm proud of the fact that I stood up early and unequivocally in opposition to Bush's foreign policy. That opposition hasn't changed.\" correct_answer='Barack Obama' choices=['Gerald R. Ford', 'Barack Obama', 'Benjamin Harrison', 'Jimmy Carter']\n",
      "Quiz created. id=351 quote='Transparency and the rule of law will be the touchstones of this presidency.' correct_answer='Barack Obama' choices=['Barack Obama', 'Andrew Jackson', 'Woodrow Wilson', 'Martin Van Buren']\n",
      "Quiz created. id=352 quote=\"I would put our legislative and foreign policy accomplishments in our first two years against any president -- with the possible exceptions of Johnson, FDR, and Lincoln -- just in terms of what we've gotten done in modern history.\" correct_answer='Barack Obama' choices=['George Washington', 'Barack Obama', 'Andrew Jackson', 'George W. Bush']\n",
      "Quiz created. id=353 quote=\"We worship an awesome God in the Blue States, and we don't like federal agents poking around our libraries in the Red States. We coach Little League in the Blue States and have gay friends in the Red States.\" correct_answer='Barack Obama' choices=['Barack Obama', 'Warren G. Harding', 'Ronald Reagan', 'Rutherford B. Hayes']\n",
      "Quiz created. id=354 quote='Poland understands as few other nations do that every nation must be free to chart its own course, to forge its own partnerships, to choose its own allies.' correct_answer='Barack Obama' choices=['Barack Obama', 'Ulysses S. Grant', 'Millard Fillmore', 'James K. Polk']\n",
      "Quiz created. id=355 quote='Citizenship demands a sense of common purpose; participation in the hard work of self-government; an obligation to serve to our communities.' correct_answer='Barack Obama' choices=['Barack Obama', 'Warren G. Harding', 'Franklin Pierce', 'Grover Cleveland']\n",
      "Quiz created. id=356 quote=\"Obviously, it's going to be up to the parties to negotiate a range of these issues, and Jerusalem will be part of those negotiations.\" correct_answer='Barack Obama' choices=['Barack Obama', 'Benjamin Harrison', 'Richard Nixon', 'John Tyler']\n",
      "Quiz created. id=357 quote=\"We cannot continue to rely only on our military in order to achieve the national security objectives that we've set. We've got to have a civilian national security force that's just as powerful, just as strong, just as well-funded.\" correct_answer='Barack Obama' choices=['James Monroe', 'Barack Obama', 'George H. W. Bush', 'Franklin Pierce']\n",
      "Quiz created. id=358 quote=\"Wow! Just think — in a couple of years I'll be dating you.\" correct_answer='Donald Trump' choices=['Donald Trump', 'Andrew Jackson', 'James Buchanan', 'Woodrow Wilson']\n",
      "Quiz created. id=359 quote='And you know we have a tremendous disadvantage in the electoral college, popular vote is much easier.' correct_answer='Donald Trump' choices=['Donald Trump', 'James Madison', 'Millard Fillmore', 'James K. Polk']\n",
      "Quiz created. id=360 quote=\"Q: (Inaudible) if 160,000 people had died on President Obama's watch, do you think you would have called for his resignation?\" correct_answer='Donald Trump' choices=['Donald Trump', 'Andrew Johnson', 'Richard Nixon', 'Zachary Taylor']\n",
      "Quiz created. id=361 quote='Happy Easter to ALL, including the Radical Left CRAZIES who rigged our Presidential Election, and want to destroy our Country!' correct_answer='Donald Trump' choices=['Donald Trump', 'Barack Obama', 'Jimmy Carter', 'William McKinley']\n",
      "Quiz created. id=362 quote='This is a country where we speak English, not Spanish.' correct_answer='Donald Trump' choices=['Donald Trump', 'James Monroe', 'James Buchanan', 'Martin Van Buren']\n",
      "Quiz created. id=363 quote='I have instructed my representatives to\\xa0stop negotiating until after the election when, immediately after\\xa0I win,\\xa0we will pass a\\xa0major\\xa0Stimulus Bill that focuses on hardworking Americans and Small Business.' correct_answer='Donald Trump' choices=['Donald Trump', 'Warren G. Harding', 'Gerald R. Ford', 'Abraham Lincoln']\n",
      "Quiz created. id=364 quote=\"Everybody calls me Mr. President. It's true. It's a funny thing.\" correct_answer='Donald Trump' choices=['Donald Trump', 'Warren G. Harding', 'Bill Clinton', 'John Tyler']\n",
      "Quiz created. id=365 quote='I’m a very compassionate person (with a very high IQ) with strong common sense.' correct_answer='Donald Trump' choices=['Donald Trump', 'James Madison', 'James Monroe', 'Herbert Hoover']\n",
      "Quiz created. id=366 quote=\"I wasn't satisfied just to earn a good living. I was looking to make a statement.\" correct_answer='Donald Trump' choices=['Donald Trump', 'George Washington', 'Dwight D. Eisenhower', 'Herbert Hoover']\n",
      "Quiz created. id=367 quote='Drug prices will be coming down 80 or 90 percent.' correct_answer='Donald Trump' choices=['Donald Trump', 'Lyndon B. Johnson', 'Harry S. Truman', 'James A. Garfield']\n",
      "Quiz created. id=368 quote=\"If you're fully vaccinated, get one more COVID shot—once a year—that's it!\" correct_answer='Joe Biden' choices=['Joe Biden', 'Chester A. Arthur', 'Bill Clinton', 'Grover Cleveland']\n",
      "Quiz created. id=369 quote=\"I, too, believe there are natural rights that predate any written political or legal documents; we have these rights merely because we're children of God.\" correct_answer='Joe Biden' choices=['Joe Biden', 'John Quincy Adams', 'Jimmy Carter', 'Harry S. Truman']\n",
      "Quiz created. id=370 quote='Why don’t you tell them what Exxon’s profits were this year? This quarter? Exxon made more money than God this year. Exxon, start investing. Start paying your taxes.' correct_answer='Joe Biden' choices=['Joe Biden', 'William McKinley', 'Millard Fillmore', 'Grover Cleveland']\n",
      "Quiz created. id=371 quote='As we meet again today, in a moment when democracy is under assault around the world, let us unite again and renew our conviction that democracy is not only the defining feature of American histories, but the essential ingredient to Americas’ futures.' correct_answer='Joe Biden' choices=['Joe Biden', 'Rutherford B. Hayes', 'Gerald R. Ford', 'William Henry Harrison']\n",
      "Quiz created. id=372 quote='A better man might have handled the situation with more grace than I did. A better man would have been able to separate his personal life from his career.' correct_answer='Joe Biden' choices=['Joe Biden', 'Richard Nixon', 'Bill Clinton', 'Gerald R. Ford']\n",
      "Quiz created. id=373 quote='That old saying, “All that needs to be said has already been said, but I’m going to say it again.”' correct_answer='Joe Biden' choices=['Joe Biden', 'Richard Nixon', 'Franklin D. Roosevelt', 'George H. W. Bush']\n",
      "Quiz created. id=374 quote='Look, I don’t want to punish anyone’s success, but the wealthy have been getting a free ride at the expense of the middle class for too long.' correct_answer='Joe Biden' choices=['Joe Biden', 'James A. Garfield', 'Andrew Jackson', 'Rutherford B. Hayes']\n",
      "Quiz created. id=375 quote='The Afghan troops have 300,000 well-equipped — as well-equipped as any army in the world — and an air force against something like 75,000 Taliban.' correct_answer='Joe Biden' choices=['Joe Biden', 'Benjamin Harrison', 'Richard Nixon', 'James Madison']\n",
      "Quiz created. id=376 quote='So, let’s get to work.' correct_answer='Joe Biden' choices=['Joe Biden', 'James A. Garfield', 'Thomas Jefferson', 'William Henry Harrison']\n",
      "Quiz created. id=377 quote='You should vote for Trump. You should vote for Trump.' correct_answer='Joe Biden' choices=['Joe Biden', 'Ronald Reagan', 'Grover Cleveland', 'John Tyler']\n"
     ]
    }
   ],
   "source": [
    "for name, qs in pquotes.items():\n",
    "    create_quizes(qs, presidents[name.replace(\" \", \"_\")])"
   ]
  },
  {
   "cell_type": "code",
   "execution_count": 44,
   "metadata": {},
   "outputs": [],
   "source": [
    "sess = sessionmaker(bind=engine)()"
   ]
  },
  {
   "cell_type": "code",
   "execution_count": 45,
   "metadata": {},
   "outputs": [],
   "source": [
    "all_quizes = [q for q  in sess.query(Tables.Quiz).all()]"
   ]
  },
  {
   "cell_type": "code",
   "execution_count": 46,
   "metadata": {},
   "outputs": [
    {
     "data": {
      "text/plain": [
       "377"
      ]
     },
     "execution_count": 46,
     "metadata": {},
     "output_type": "execute_result"
    }
   ],
   "source": [
    "len(all_quizes)"
   ]
  },
  {
   "cell_type": "code",
   "execution_count": 83,
   "metadata": {},
   "outputs": [],
   "source": [
    "qr = Tables.QuizRecord(\n",
    "    quiz_id=all_quizes[0].id,\n",
    "    player_id=1,\n",
    "    correct=True,\n",
    "    guess=all_quizes[0].correct_answer,\n",
    ")"
   ]
  },
  {
   "cell_type": "code",
   "execution_count": 84,
   "metadata": {},
   "outputs": [],
   "source": [
    "sess.add(qr)\n",
    "sess.commit()\n"
   ]
  },
  {
   "cell_type": "code",
   "execution_count": 34,
   "metadata": {},
   "outputs": [],
   "source": [
    "# drop all quiz records\n",
    "sess = sessionmaker(bind=engine)()\n",
    "sess.query(Tables.QuizRecord).delete()\n",
    "sess.commit()\n",
    "sess.close()"
   ]
  },
  {
   "cell_type": "code",
   "execution_count": 99,
   "metadata": {},
   "outputs": [],
   "source": [
    "# connect to test_pap.db\n",
    "engine = create_engine(\"sqlite:///pap.db\")\n",
    "Session = sessionmaker(bind=engine)\n",
    "session = Session()"
   ]
  },
  {
   "cell_type": "code",
   "execution_count": 94,
   "metadata": {},
   "outputs": [],
   "source": [
    "# get all quiz records with player id 53653440245\n",
    "qrs = session.query(Tables.QuizRecord).filter(\n",
    "    Tables.QuizRecord.player_id == 53653440245\n",
    ").all()"
   ]
  },
  {
   "cell_type": "code",
   "execution_count": 97,
   "metadata": {},
   "outputs": [
    {
     "data": {
      "text/plain": [
       "0.5"
      ]
     },
     "execution_count": 97,
     "metadata": {},
     "output_type": "execute_result"
    }
   ],
   "source": [
    "sum([qr.correct for qr in qrs]) / len(qrs)"
   ]
  },
  {
   "cell_type": "code",
   "execution_count": 100,
   "metadata": {},
   "outputs": [
    {
     "data": {
      "text/plain": [
       "2080"
      ]
     },
     "execution_count": 100,
     "metadata": {},
     "output_type": "execute_result"
    }
   ],
   "source": [
    "# count the number of distinct players\n",
    "session.query(Tables.QuizRecord.player_id).distinct().count()"
   ]
  },
  {
   "cell_type": "code",
   "execution_count": 48,
   "metadata": {},
   "outputs": [],
   "source": [
    "# get all quiz \n",
    "quizes = sess.query(Tables.Quiz).all()"
   ]
  },
  {
   "cell_type": "code",
   "execution_count": 55,
   "metadata": {},
   "outputs": [
    {
     "data": {
      "text/plain": [
       "{'George_Washington': President(president_id=1, name='George Washington', image='01-washington.jpg'),\n",
       " 'John_Adams': President(president_id=2, name='John Adams', image='02-adams.jpg'),\n",
       " 'Thomas_Jefferson': President(president_id=3, name='Thomas Jefferson', image='03-jefferson.jpg'),\n",
       " 'James_Madison': President(president_id=4, name='James Madison', image='04-madison.jpg'),\n",
       " 'James_Monroe': President(president_id=5, name='James Monroe', image='05-monroe.jpg'),\n",
       " 'John_Quincy_Adams': President(president_id=6, name='John Quincy Adams', image='06-adams.jpg'),\n",
       " 'Andrew_Jackson': President(president_id=7, name='Andrew Jackson', image='07-jackson.jpg'),\n",
       " 'Martin_Van_Buren': President(president_id=8, name='Martin Van Buren', image='08-van-buren.jpg'),\n",
       " 'William_Henry_Harrison': President(president_id=9, name='William Henry Harrison', image='09-harrison.jpg'),\n",
       " 'John_Tyler': President(president_id=10, name='John Tyler', image='10-tyler.jpg'),\n",
       " 'James_K._Polk': President(president_id=11, name='James K. Polk', image='11-polk.jpg'),\n",
       " 'Zachary_Taylor': President(president_id=12, name='Zachary Taylor', image='12-taylor.jpg'),\n",
       " 'Millard_Fillmore': President(president_id=13, name='Millard Fillmore', image='13-fillmore.jpg'),\n",
       " 'Franklin_Pierce': President(president_id=14, name='Franklin Pierce', image='14-pierce.jpg'),\n",
       " 'James_Buchanan': President(president_id=15, name='James Buchanan', image='15-buchanan.jpg'),\n",
       " 'Abraham_Lincoln': President(president_id=16, name='Abraham Lincoln', image='16-lincoln.jpg'),\n",
       " 'Andrew_Johnson': President(president_id=17, name='Andrew Johnson', image='17-johnson.jpg'),\n",
       " 'Ulysses_S._Grant': President(president_id=18, name='Ulysses S. Grant', image='18-grant.jpg'),\n",
       " 'Rutherford_B._Hayes': President(president_id=19, name='Rutherford B. Hayes', image='19-hayes.jpg'),\n",
       " 'James_A._Garfield': President(president_id=20, name='James A. Garfield', image='20-garfield.jpg'),\n",
       " 'Chester_A._Arthur': President(president_id=21, name='Chester A. Arthur', image='21-arthur.jpg'),\n",
       " 'Grover_Cleveland': President(president_id=22, name='Grover Cleveland', image='22-24-cleveland.jpg'),\n",
       " 'Benjamin_Harrison': President(president_id=23, name='Benjamin Harrison', image='23-harrison.jpg'),\n",
       " 'William_McKinley': President(president_id=25, name='William McKinley', image='25-mckinley.jpg'),\n",
       " 'Theodore_Roosevelt': President(president_id=26, name='Theodore Roosevelt', image='26-roosevelt.jpg'),\n",
       " 'William_Howard_Taft': President(president_id=27, name='William Howard Taft', image='27-taft.jpg'),\n",
       " 'Woodrow_Wilson': President(president_id=28, name='Woodrow Wilson', image='28-wilson.jpg'),\n",
       " 'Warren_G._Harding': President(president_id=29, name='Warren G. Harding', image='29-harding.jpg'),\n",
       " 'Calvin_Coolidge': President(president_id=30, name='Calvin Coolidge', image='30-coolidge.jpg'),\n",
       " 'Herbert_Hoover': President(president_id=31, name='Herbert Hoover', image='31-hoover.jpg'),\n",
       " 'Franklin_D._Roosevelt': President(president_id=32, name='Franklin D. Roosevelt', image='32-roosevelt.jpg'),\n",
       " 'Harry_S._Truman': President(president_id=33, name='Harry S. Truman', image='33-truman.jpg'),\n",
       " 'Dwight_D._Eisenhower': President(president_id=34, name='Dwight D. Eisenhower', image='34-eisenhower.jpg'),\n",
       " 'John_F._Kennedy': President(president_id=35, name='John F. Kennedy', image='35-kennedy.jpg'),\n",
       " 'Lyndon_B._Johnson': President(president_id=36, name='Lyndon B. Johnson', image='36-johnson.jpg'),\n",
       " 'Richard_Nixon': President(president_id=37, name='Richard Nixon', image='37-nixon.jpg'),\n",
       " 'Gerald_R._Ford': President(president_id=38, name='Gerald R. Ford', image='38-ford.jpg'),\n",
       " 'Jimmy_Carter': President(president_id=39, name='Jimmy Carter', image='39-carter.jpg'),\n",
       " 'Ronald_Reagan': President(president_id=40, name='Ronald Reagan', image='40-reagan.jpg'),\n",
       " 'George_H._W._Bush': President(president_id=41, name='George H. W. Bush', image='41-bush.jpg'),\n",
       " 'Bill_Clinton': President(president_id=42, name='Bill Clinton', image='42-clinton.jpg'),\n",
       " 'George_W._Bush': President(president_id=43, name='George W. Bush', image='43-bush.jpg'),\n",
       " 'Barack_Obama': President(president_id=44, name='Barack Obama', image='44-obama.jpg'),\n",
       " 'Donald_Trump': President(president_id=45, name='Donald Trump', image='45-donald-trump.png'),\n",
       " 'Joe_Biden': President(president_id=46, name='Joe Biden', image='46-joe-biden.png')}"
      ]
     },
     "execution_count": 55,
     "metadata": {},
     "output_type": "execute_result"
    }
   ],
   "source": [
    "presidents"
   ]
  },
  {
   "cell_type": "code",
   "execution_count": 56,
   "metadata": {},
   "outputs": [],
   "source": [
    "for q in quizes:\n",
    "    cs = q.choices.split(\",\")\n",
    "    for c in cs:\n",
    "        c = c.replace(\" \", \"_\")\n",
    "        if c not in presidents:\n",
    "            print(c)"
   ]
  },
  {
   "cell_type": "code",
   "execution_count": 53,
   "metadata": {},
   "outputs": [
    {
     "data": {
      "text/plain": [
       "{'George Washington': 29,\n",
       " 'Benjamin Harrison': 42,\n",
       " 'Millard Fillmore': 28,\n",
       " 'Richard Nixon': 49,\n",
       " 'Calvin Coolidge': 32,\n",
       " 'John Adams': 34,\n",
       " 'Franklin D. Roosevelt': 38,\n",
       " 'George H. W. Bush': 27,\n",
       " 'Andrew Johnson': 29,\n",
       " 'Abraham Lincoln': 34,\n",
       " 'James K. Polk': 35,\n",
       " 'Grover Cleveland': 33,\n",
       " 'William McKinley': 35,\n",
       " 'Herbert Hoover': 35,\n",
       " 'John Quincy Adams': 41,\n",
       " 'Ulysses S. Grant': 31,\n",
       " 'Thomas Jefferson': 38,\n",
       " 'Martin Van Buren': 32,\n",
       " 'Barack Obama': 25,\n",
       " 'Dwight D. Eisenhower': 37,\n",
       " 'Bill Clinton': 39,\n",
       " 'Zachary Taylor': 23,\n",
       " 'James Madison': 41,\n",
       " 'James Monroe': 28,\n",
       " 'Warren G. Harding': 35,\n",
       " 'James A. Garfield': 37,\n",
       " 'Andrew Jackson': 33,\n",
       " 'Gerald R. Ford': 33,\n",
       " 'Harry S. Truman': 35,\n",
       " 'Joe Biden': 42,\n",
       " 'Donald Trump': 36,\n",
       " 'Jimmy Carter': 35,\n",
       " 'Ronald Reagan': 40,\n",
       " 'Lyndon B. Johnson': 24,\n",
       " 'John Tyler': 36,\n",
       " 'George W. Bush': 30,\n",
       " 'Woodrow Wilson': 40,\n",
       " 'Chester A. Arthur': 32,\n",
       " 'Franklin Pierce': 33,\n",
       " 'Theodore Roosevelt': 35,\n",
       " 'James Buchanan': 24,\n",
       " 'William Howard Taft': 25,\n",
       " 'Rutherford B. Hayes': 31,\n",
       " 'John F. Kennedy': 24,\n",
       " 'William Henry Harrison': 33}"
      ]
     },
     "execution_count": 53,
     "metadata": {},
     "output_type": "execute_result"
    }
   ],
   "source": [
    "all_ps"
   ]
  },
  {
   "cell_type": "code",
   "execution_count": null,
   "metadata": {},
   "outputs": [],
   "source": []
  }
 ],
 "metadata": {
  "kernelspec": {
   "display_name": "Python 3",
   "language": "python",
   "name": "python3"
  },
  "language_info": {
   "codemirror_mode": {
    "name": "ipython",
    "version": 3
   },
   "file_extension": ".py",
   "mimetype": "text/x-python",
   "name": "python",
   "nbconvert_exporter": "python",
   "pygments_lexer": "ipython3",
   "version": "3.8.10 (default, Nov 14 2022, 12:59:47) \n[GCC 9.4.0]"
  },
  "orig_nbformat": 4,
  "vscode": {
   "interpreter": {
    "hash": "31f2aee4e71d21fbe5cf8b01ff0e069b9275f58929596ceb00d14d90e3e16cd6"
   }
  }
 },
 "nbformat": 4,
 "nbformat_minor": 2
}
