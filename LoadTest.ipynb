{
 "cells": [
  {
   "cell_type": "code",
   "execution_count": 3,
   "metadata": {},
   "outputs": [],
   "source": [
    "import requests\n",
    "import random\n",
    "import time\n",
    "import threading"
   ]
  },
  {
   "cell_type": "code",
   "execution_count": 1,
   "metadata": {},
   "outputs": [],
   "source": [
    "url = \"https://nowplayok.com/s\""
   ]
  },
  {
   "cell_type": "code",
   "execution_count": 2,
   "metadata": {},
   "outputs": [],
   "source": [
    "def random_pid(repeat_chance=0.5):\n",
    "    if random.random() < repeat_chance:\n",
    "        return random.randint(10, 100_000_000_000)\n",
    "    else:\n",
    "        return random.randint(1, 10)\n"
   ]
  },
  {
   "cell_type": "code",
   "execution_count": 4,
   "metadata": {},
   "outputs": [],
   "source": [
    "routes = [\n",
    "    (\"/getQuiz\", lambda: {\"player_id\": random_pid()}),\n",
    "    (\"/submitGuess\", lambda: {\"player_id\": random_pid(), \"quiz_id\": random.randint(1, 100), \"answer\": \"Donald Trump\"}),\n",
    "    (\"/getStats\", lambda: {\"player_id\": random_pid()}),\n",
    "]"
   ]
  },
  {
   "cell_type": "code",
   "execution_count": 5,
   "metadata": {},
   "outputs": [],
   "source": [
    "r, f = routes[0]"
   ]
  },
  {
   "cell_type": "code",
   "execution_count": 6,
   "metadata": {},
   "outputs": [
    {
     "data": {
      "text/plain": [
       "<Response [200]>"
      ]
     },
     "execution_count": 6,
     "metadata": {},
     "output_type": "execute_result"
    }
   ],
   "source": [
    "requests.post(url + r, json=f())"
   ]
  },
  {
   "cell_type": "code",
   "execution_count": 7,
   "metadata": {},
   "outputs": [],
   "source": [
    "def work():\n",
    "    for r, f in routes:\n",
    "        requests.post(url + r, json=f())"
   ]
  },
  {
   "cell_type": "code",
   "execution_count": 8,
   "metadata": {},
   "outputs": [],
   "source": [
    "def task(n):\n",
    "    for i in range(n):\n",
    "        work()"
   ]
  },
  {
   "cell_type": "code",
   "execution_count": 30,
   "metadata": {},
   "outputs": [],
   "source": [
    "task(10)"
   ]
  },
  {
   "cell_type": "code",
   "execution_count": 9,
   "metadata": {},
   "outputs": [],
   "source": [
    "def multi_work(threads=10, n=100):\n",
    "    start = time.time()\n",
    "    all_threads = []\n",
    "    for i in range(threads):\n",
    "        t = threading.Thread(target=task, args=(n,))\n",
    "        all_threads.append(t)\n",
    "        t.start()\n",
    "    for t in all_threads:\n",
    "        t.join()\n",
    "\n",
    "    return time.time() - start"
   ]
  },
  {
   "cell_type": "code",
   "execution_count": 29,
   "metadata": {},
   "outputs": [
    {
     "data": {
      "text/plain": [
       "8.031178951263428"
      ]
     },
     "execution_count": 29,
     "metadata": {},
     "output_type": "execute_result"
    }
   ],
   "source": [
    "multi_work(threads=10, n=100)"
   ]
  },
  {
   "cell_type": "code",
   "execution_count": 10,
   "metadata": {},
   "outputs": [
    {
     "data": {
      "text/plain": [
       "35.60012683500338"
      ]
     },
     "execution_count": 10,
     "metadata": {},
     "output_type": "execute_result"
    }
   ],
   "source": [
    "10 * 100 * 3 / multi_work(threads=10, n=100)"
   ]
  },
  {
   "cell_type": "code",
   "execution_count": 11,
   "metadata": {},
   "outputs": [],
   "source": [
    "def tps(threads, n):\n",
    "    return threads * n * 3 / multi_work(threads=threads, n=n)"
   ]
  },
  {
   "cell_type": "code",
   "execution_count": 12,
   "metadata": {},
   "outputs": [
    {
     "ename": "KeyboardInterrupt",
     "evalue": "",
     "output_type": "error",
     "traceback": [
      "\u001b[0;31m---------------------------------------------------------------------------\u001b[0m",
      "\u001b[0;31mKeyboardInterrupt\u001b[0m                         Traceback (most recent call last)",
      "Cell \u001b[0;32mIn [12], line 4\u001b[0m\n\u001b[1;32m      2\u001b[0m results \u001b[39m=\u001b[39m []\n\u001b[1;32m      3\u001b[0m \u001b[39mwhile\u001b[39;00m x \u001b[39m<\u001b[39m \u001b[39m100\u001b[39m:\n\u001b[0;32m----> 4\u001b[0m     results\u001b[39m.\u001b[39mappend((x, tps(x, y)))\n\u001b[1;32m      5\u001b[0m     x \u001b[39m+\u001b[39m\u001b[39m=\u001b[39m \u001b[39m1\u001b[39m\n\u001b[1;32m      6\u001b[0m     y \u001b[39m=\u001b[39m \u001b[39mint\u001b[39m(\u001b[39m1_000\u001b[39m \u001b[39m/\u001b[39m x)\n",
      "Cell \u001b[0;32mIn [11], line 2\u001b[0m, in \u001b[0;36mtps\u001b[0;34m(threads, n)\u001b[0m\n\u001b[1;32m      1\u001b[0m \u001b[39mdef\u001b[39;00m \u001b[39mtps\u001b[39m(threads, n):\n\u001b[0;32m----> 2\u001b[0m     \u001b[39mreturn\u001b[39;00m threads \u001b[39m*\u001b[39m n \u001b[39m*\u001b[39m \u001b[39m3\u001b[39m \u001b[39m/\u001b[39m multi_work(threads\u001b[39m=\u001b[39;49mthreads, n\u001b[39m=\u001b[39;49mn)\n",
      "Cell \u001b[0;32mIn [9], line 9\u001b[0m, in \u001b[0;36mmulti_work\u001b[0;34m(threads, n)\u001b[0m\n\u001b[1;32m      7\u001b[0m     t\u001b[39m.\u001b[39mstart()\n\u001b[1;32m      8\u001b[0m \u001b[39mfor\u001b[39;00m t \u001b[39min\u001b[39;00m all_threads:\n\u001b[0;32m----> 9\u001b[0m     t\u001b[39m.\u001b[39;49mjoin()\n\u001b[1;32m     11\u001b[0m \u001b[39mreturn\u001b[39;00m time\u001b[39m.\u001b[39mtime() \u001b[39m-\u001b[39m start\n",
      "File \u001b[0;32m/usr/lib/python3.8/threading.py:1011\u001b[0m, in \u001b[0;36mThread.join\u001b[0;34m(self, timeout)\u001b[0m\n\u001b[1;32m   1008\u001b[0m     \u001b[39mraise\u001b[39;00m \u001b[39mRuntimeError\u001b[39;00m(\u001b[39m\"\u001b[39m\u001b[39mcannot join current thread\u001b[39m\u001b[39m\"\u001b[39m)\n\u001b[1;32m   1010\u001b[0m \u001b[39mif\u001b[39;00m timeout \u001b[39mis\u001b[39;00m \u001b[39mNone\u001b[39;00m:\n\u001b[0;32m-> 1011\u001b[0m     \u001b[39mself\u001b[39;49m\u001b[39m.\u001b[39;49m_wait_for_tstate_lock()\n\u001b[1;32m   1012\u001b[0m \u001b[39melse\u001b[39;00m:\n\u001b[1;32m   1013\u001b[0m     \u001b[39m# the behavior of a negative timeout isn't documented, but\u001b[39;00m\n\u001b[1;32m   1014\u001b[0m     \u001b[39m# historically .join(timeout=x) for x<0 has acted as if timeout=0\u001b[39;00m\n\u001b[1;32m   1015\u001b[0m     \u001b[39mself\u001b[39m\u001b[39m.\u001b[39m_wait_for_tstate_lock(timeout\u001b[39m=\u001b[39m\u001b[39mmax\u001b[39m(timeout, \u001b[39m0\u001b[39m))\n",
      "File \u001b[0;32m/usr/lib/python3.8/threading.py:1027\u001b[0m, in \u001b[0;36mThread._wait_for_tstate_lock\u001b[0;34m(self, block, timeout)\u001b[0m\n\u001b[1;32m   1025\u001b[0m \u001b[39mif\u001b[39;00m lock \u001b[39mis\u001b[39;00m \u001b[39mNone\u001b[39;00m:  \u001b[39m# already determined that the C code is done\u001b[39;00m\n\u001b[1;32m   1026\u001b[0m     \u001b[39massert\u001b[39;00m \u001b[39mself\u001b[39m\u001b[39m.\u001b[39m_is_stopped\n\u001b[0;32m-> 1027\u001b[0m \u001b[39melif\u001b[39;00m lock\u001b[39m.\u001b[39;49macquire(block, timeout):\n\u001b[1;32m   1028\u001b[0m     lock\u001b[39m.\u001b[39mrelease()\n\u001b[1;32m   1029\u001b[0m     \u001b[39mself\u001b[39m\u001b[39m.\u001b[39m_stop()\n",
      "\u001b[0;31mKeyboardInterrupt\u001b[0m: "
     ]
    }
   ],
   "source": [
    "x, y = 1, 1_000\n",
    "results = []\n",
    "while x < 100:\n",
    "    results.append((x, tps(x, y)))\n",
    "    x += 1\n",
    "    y = int(1_000 / x)"
   ]
  },
  {
   "cell_type": "code",
   "execution_count": null,
   "metadata": {},
   "outputs": [
    {
     "ename": "",
     "evalue": "",
     "output_type": "error",
     "traceback": [
      "\u001b[1;31mnotebook controller is DISPOSED. \n",
      "\u001b[1;31mView Jupyter <a href='command:jupyter.viewOutput'>log</a> for further details."
     ]
    }
   ],
   "source": [
    "from matplotlib import pyplot as plt\n",
    "import numpy as np"
   ]
  },
  {
   "cell_type": "code",
   "execution_count": null,
   "metadata": {},
   "outputs": [],
   "source": [
    "# plot a scatter plot with trendline of results\n",
    "plt.scatter(*zip(*results))\n",
    "z = np.polyfit(*zip(*results), 1)\n",
    "p = np.poly1d(z)\n",
    "plt.plot(*zip(*results), p(*zip(*results)), \"r--\")\n",
    "plt.show()\n",
    "\n"
   ]
  },
  {
   "cell_type": "code",
   "execution_count": 28,
   "metadata": {},
   "outputs": [
    {
     "name": "stdout",
     "output_type": "stream",
     "text": [
      "/getQuiz\n",
      "0.3000643253326416\n",
      "/submitGuess\n",
      "1.0471608638763428\n",
      "/getStats\n",
      "0.2797362804412842\n"
     ]
    }
   ],
   "source": [
    "for r, f in routes:\n",
    "    print(r)\n",
    "    start = time.time()\n",
    "    for _ in range(100):\n",
    "        requests.post(url + r, json=f())\n",
    "    print(time.time() - start)\n"
   ]
  },
  {
   "cell_type": "code",
   "execution_count": null,
   "metadata": {},
   "outputs": [],
   "source": []
  }
 ],
 "metadata": {
  "kernelspec": {
   "display_name": "Python 3",
   "language": "python",
   "name": "python3"
  },
  "language_info": {
   "codemirror_mode": {
    "name": "ipython",
    "version": 3
   },
   "file_extension": ".py",
   "mimetype": "text/x-python",
   "name": "python",
   "nbconvert_exporter": "python",
   "pygments_lexer": "ipython3",
   "version": "3.8.10 (default, Nov 14 2022, 12:59:47) \n[GCC 9.4.0]"
  },
  "orig_nbformat": 4,
  "vscode": {
   "interpreter": {
    "hash": "31f2aee4e71d21fbe5cf8b01ff0e069b9275f58929596ceb00d14d90e3e16cd6"
   }
  }
 },
 "nbformat": 4,
 "nbformat_minor": 2
}
