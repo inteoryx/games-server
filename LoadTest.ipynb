{
 "cells": [
  {
   "cell_type": "code",
   "execution_count": 2,
   "metadata": {},
   "outputs": [],
   "source": [
    "import requests\n",
    "import random\n",
    "import time\n",
    "import threading"
   ]
  },
  {
   "cell_type": "code",
   "execution_count": 3,
   "metadata": {},
   "outputs": [],
   "source": [
    "url = \"http://localhost:8000\""
   ]
  },
  {
   "cell_type": "code",
   "execution_count": 4,
   "metadata": {},
   "outputs": [],
   "source": [
    "def random_pid(repeat_chance=0.5):\n",
    "    if random.random() < repeat_chance:\n",
    "        return random.randint(10, 100_000_000_000)\n",
    "    else:\n",
    "        return random.randint(1, 10)\n"
   ]
  },
  {
   "cell_type": "code",
   "execution_count": 5,
   "metadata": {},
   "outputs": [],
   "source": [
    "routes = [\n",
    "    (\"/getQuiz\", lambda: {\"player_id\": random_pid()}),\n",
    "    (\"/submitGuess\", lambda: {\"player_id\": random_pid(), \"quiz_id\": random.randint(1, 100), \"answer\": \"Donald J. Trump\"}),\n",
    "    (\"/getStats\", lambda: {\"player_id\": random_pid()}),\n",
    "]"
   ]
  },
  {
   "cell_type": "code",
   "execution_count": 6,
   "metadata": {},
   "outputs": [],
   "source": [
    "r, f = routes[0]"
   ]
  },
  {
   "cell_type": "code",
   "execution_count": 7,
   "metadata": {},
   "outputs": [
    {
     "data": {
      "text/plain": [
       "<Response [200]>"
      ]
     },
     "execution_count": 7,
     "metadata": {},
     "output_type": "execute_result"
    }
   ],
   "source": [
    "requests.post(url + r, json=f())"
   ]
  },
  {
   "cell_type": "code",
   "execution_count": 8,
   "metadata": {},
   "outputs": [],
   "source": [
    "def work():\n",
    "    for r, f in routes:\n",
    "        requests.post(url + r, json=f())"
   ]
  },
  {
   "cell_type": "code",
   "execution_count": 9,
   "metadata": {},
   "outputs": [],
   "source": [
    "def task(n):\n",
    "    for i in range(n):\n",
    "        work()"
   ]
  },
  {
   "cell_type": "code",
   "execution_count": 10,
   "metadata": {},
   "outputs": [],
   "source": [
    "task(10)"
   ]
  },
  {
   "cell_type": "code",
   "execution_count": 10,
   "metadata": {},
   "outputs": [],
   "source": [
    "def multi_work(threads=10, n=100):\n",
    "    start = time.time()\n",
    "    all_threads = []\n",
    "    for i in range(threads):\n",
    "        t = threading.Thread(target=task, args=(n,))\n",
    "        all_threads.append(t)\n",
    "        t.start()\n",
    "    for t in all_threads:\n",
    "        t.join()\n",
    "\n",
    "    return time.time() - start"
   ]
  },
  {
   "cell_type": "code",
   "execution_count": 29,
   "metadata": {},
   "outputs": [
    {
     "data": {
      "text/plain": [
       "8.031178951263428"
      ]
     },
     "execution_count": 29,
     "metadata": {},
     "output_type": "execute_result"
    }
   ],
   "source": [
    "multi_work(threads=10, n=100)"
   ]
  },
  {
   "cell_type": "code",
   "execution_count": 11,
   "metadata": {},
   "outputs": [
    {
     "data": {
      "text/plain": [
       "339.26732197872286"
      ]
     },
     "execution_count": 11,
     "metadata": {},
     "output_type": "execute_result"
    }
   ],
   "source": [
    "10 * 100 * 3 / multi_work(threads=10, n=100)"
   ]
  },
  {
   "cell_type": "code",
   "execution_count": 28,
   "metadata": {},
   "outputs": [
    {
     "name": "stdout",
     "output_type": "stream",
     "text": [
      "/getQuiz\n",
      "0.3000643253326416\n",
      "/submitGuess\n",
      "1.0471608638763428\n",
      "/getStats\n",
      "0.2797362804412842\n"
     ]
    }
   ],
   "source": [
    "for r, f in routes:\n",
    "    print(r)\n",
    "    start = time.time()\n",
    "    for _ in range(100):\n",
    "        requests.post(url + r, json=f())\n",
    "    print(time.time() - start)\n"
   ]
  },
  {
   "cell_type": "code",
   "execution_count": null,
   "metadata": {},
   "outputs": [],
   "source": []
  }
 ],
 "metadata": {
  "kernelspec": {
   "display_name": "Python 3",
   "language": "python",
   "name": "python3"
  },
  "language_info": {
   "codemirror_mode": {
    "name": "ipython",
    "version": 3
   },
   "file_extension": ".py",
   "mimetype": "text/x-python",
   "name": "python",
   "nbconvert_exporter": "python",
   "pygments_lexer": "ipython3",
   "version": "3.8.10"
  },
  "orig_nbformat": 4,
  "vscode": {
   "interpreter": {
    "hash": "31f2aee4e71d21fbe5cf8b01ff0e069b9275f58929596ceb00d14d90e3e16cd6"
   }
  }
 },
 "nbformat": 4,
 "nbformat_minor": 2
}
